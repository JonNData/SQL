{
  "nbformat": 4,
  "nbformat_minor": 0,
  "metadata": {
    "colab": {
      "name": "HACKER RANK in the morning.ipynb",
      "provenance": [],
      "collapsed_sections": [
        "p2vvrxyY-hRH",
        "r2cNEl4RONg3"
      ],
      "authorship_tag": "ABX9TyO4q+JZSQm+ixGlQu/0g2OY",
      "include_colab_link": true
    },
    "kernelspec": {
      "name": "python3",
      "display_name": "Python 3"
    }
  },
  "cells": [
    {
      "cell_type": "markdown",
      "metadata": {
        "id": "view-in-github",
        "colab_type": "text"
      },
      "source": [
        "<a href=\"https://colab.research.google.com/github/JonNData/SQL/blob/master/HACKER_RANK_in_the_morning.ipynb\" target=\"_parent\"><img src=\"https://colab.research.google.com/assets/colab-badge.svg\" alt=\"Open In Colab\"/></a>"
      ]
    },
    {
      "cell_type": "markdown",
      "metadata": {
        "id": "WRjDVQVgv3aO"
      },
      "source": [
        "# HACKER RANK"
      ]
    },
    {
      "cell_type": "markdown",
      "metadata": {
        "id": "p2vvrxyY-hRH"
      },
      "source": [
        "# SQL SECTION"
      ]
    },
    {
      "cell_type": "markdown",
      "metadata": {
        "id": "2ktbx9k3Ju5D"
      },
      "source": [
        "##Revising the SELECT\n",
        "\n",
        "Query all columns for all American cities in CITY with populations larger than 100000. The CountryCode for America is USA.\n",
        "\n",
        "Input Format\n",
        "\n",
        "The CITY table is described as follows: CITY.jpg\n",
        "\n",
        "\n",
        "\n",
        "```\n",
        "SELECT *\n",
        "FROM CITY\n",
        "WHERE POPULATION > 100000\n",
        "AND COUNTRYCODE = 'USA';\n",
        "```\n",
        "\n"
      ]
    },
    {
      "cell_type": "markdown",
      "metadata": {
        "id": "x4KmGW9HSPR_"
      },
      "source": [
        "## Population density Difference\n",
        "Query the difference between the maximum and minimum populations in CITY.\n",
        "\n",
        "\n",
        "```\n",
        "SELECT MAX(POPULATION) - MIN(POPULATION)\n",
        "FROM CITY\n",
        "```\n",
        "\n"
      ]
    },
    {
      "cell_type": "markdown",
      "metadata": {
        "id": "vojKjaMyyugI"
      },
      "source": [
        "## KANGAROO\n",
        "Function Description\n",
        "\n",
        "Complete the function kangaroo in the editor below. It should return YES if they reach the same position at the same time, or NO if they don't.\n",
        "\n",
        "kangaroo has the following parameter(s):\n",
        "\n",
        "x1, v1: integers, starting position and jump distance for kangaroo 1\n",
        "x2, v2: integers, starting position and jump distance for kangaroo 2\n",
        "Input Format\n",
        "\n",
        "A single line of four space-separated integers denoting the respective values of , , , and .\n",
        "\n",
        "Constraints\n",
        "\n",
        "Output Format\n",
        "\n",
        "Print YES if they can land on the same location at the same time; otherwise, print NO.\n",
        "\n",
        "\n",
        "\n",
        "```\n",
        "# KANGAROO\n",
        "\n",
        "def kangaroo(x1, v1, x2, v2):\n",
        "    i = 10000\n",
        "    counter = 0\n",
        "    while(i > 0):\n",
        "        if(x1 == x2):\n",
        "            return \"YES\"\n",
        "            counter = 1\n",
        "            break\n",
        "        else:\n",
        "            x1 += v1\n",
        "            x2 += v2\n",
        "            i -= 1\n",
        "    if(counter == 0):\n",
        "        return \"NO\"\n",
        "```\n",
        "\n"
      ]
    },
    {
      "cell_type": "markdown",
      "metadata": {
        "id": "JKF8FfdPOue4"
      },
      "source": [
        "## Top Earners\n",
        "We define an employee's total earnings to be their monthly  worked, and the maximum total earnings to be the maximum total earnings for any employee in the Employee table. Write a query to find the maximum total earnings for all employees as well as the total number of employees who have maximum total earnings. Then print these values as  space-separated integers.\n",
        "\n",
        "Input Format\n",
        "\n",
        "The Employee table containing employee data for a company is described as follows:\n",
        "\n",
        "\n",
        "\n",
        "where employee_id is an employee's ID number, name is their name, months is the total number of months they've been working for the company, and salary is the their monthly salary.\n",
        "\n",
        "```\n",
        "SELECT earnings, count(employee_id)\n",
        "FROM (    \n",
        "    SELECT (months * salary) AS earnings, employee_id\n",
        "    FROM Employee\n",
        ") as Subquery\n",
        "GROUP BY earnings DESC\n",
        "LIMIT 1;\n",
        "```\n",
        "\n"
      ]
    },
    {
      "cell_type": "markdown",
      "metadata": {
        "id": "1zyFMKFibtfj"
      },
      "source": [
        "## Weather Observation Station 1\n",
        "\n",
        "Query a list of CITY and STATE from the STATION table.\n",
        "\n",
        "\n",
        "```\n",
        "SELECT CITY,STATE FROM STATION\n",
        "```\n",
        "\n"
      ]
    },
    {
      "cell_type": "markdown",
      "metadata": {
        "id": "Kw4v8SUGrGek"
      },
      "source": [
        "## Weather Station 2\n",
        "Query the following two values from the STATION table:\n",
        "\n",
        "The sum of all values in LAT_N rounded to a scale of 2 decimal places.\n",
        "The sum of all values in LONG_W rounded to a scale of 2 decimal places.\n",
        "\n",
        "\n",
        "\n",
        "```\n",
        "SELECT ROUND(sum(LAT_N),2), ROUND(SUM(LONG_W),2)\n",
        "FROM STATION\n",
        "```\n",
        "\n"
      ]
    },
    {
      "cell_type": "markdown",
      "metadata": {
        "id": "y2_lc2_PcJHI"
      },
      "source": [
        "## Weather Observation Station 3\n",
        "Query a list of CITY names from STATION with even ID numbers only. You may print the results in any order, but must exclude duplicates from your answer.\n",
        "\n",
        "\n",
        "\n",
        "```\n",
        "SELECT DISTINCT(CITY) FROM STATION WHERE ID%2 = 0\n",
        "```\n",
        "Apparently MySQL has the % mod operator as well\n",
        "\n"
      ]
    },
    {
      "cell_type": "markdown",
      "metadata": {
        "id": "Uu6zdLpU89sZ"
      },
      "source": [
        "##Weather Observation Station 4\n",
        "\n",
        "Let N be the number of CITY entries in STATION, and let M be the number of distinct CITY names in STATION; query the value of N - M from STATION. In other words, find the difference between the total number of CITY entries in the table and the number of distinct CITY entries in the table.\n",
        "\n",
        "\n",
        "\n",
        "```\n",
        "SELECT (COUNT(CITY) - COUNT(DISTINCT(CITY)))\n",
        "FROM STATION;\n",
        "```\n",
        "\n"
      ]
    },
    {
      "cell_type": "markdown",
      "metadata": {
        "id": "_j7F5uRi_u5L"
      },
      "source": [
        "##Weather Observation Station 5\n",
        "\n",
        "Query the two cities in STATION with the shortest and longest CITY names, as well as their respective lengths (i.e.: number of characters in the name). If there is more than one smallest or largest city, choose the one that comes first when ordered alphabetically.\n",
        "\n",
        "```\n",
        "SELECT CITY, length(CITY)\n",
        "FROM STATION \n",
        "ORDER BY LENGTH(CITY) DESC LIMIT 1;\n",
        "\n",
        "SELECT CITY, LENGTH(CITY)\n",
        "FROM STATION\n",
        "ORDER BY LENGTH(CITY) ASC, CITY LIMIT 1\n",
        "```\n",
        "\n",
        "This could also be done with a subquery if desired one table. Would need a union.\n"
      ]
    },
    {
      "cell_type": "markdown",
      "metadata": {
        "id": "kau8q0Y3RRYh"
      },
      "source": [
        "## Weather Observation Station 6\n",
        "\n",
        "Query the list of CITY names starting with vowels (i.e., a, e, i, o, or u) from STATION. Your result cannot contain duplicates.\n",
        "\n",
        "\n",
        "\n",
        "```\n",
        "SELECT DISTINCT(CITY)\n",
        "FROM STATION\n",
        "WHERE CITY LIKE \"a%\" \n",
        "    OR CITY LIKE \"e%\"\n",
        "    OR CITY LIKE \"i%\"\n",
        "    OR CITY LIKE \"o%\"\n",
        "    OR CITY LIKE \"u%\";\n",
        "```\n",
        "\n"
      ]
    },
    {
      "cell_type": "markdown",
      "metadata": {
        "id": "I6fxK_W7o7St"
      },
      "source": [
        "## Weather Station 7\n",
        "\n",
        "Query the list of CITY names from STATION that do not start with vowels. Your result cannot contain duplicates.\n",
        "\n",
        "Input Format\n",
        "\n",
        "The STATION table is described as follows:\n",
        "\n",
        "\n",
        "\n",
        "\n",
        "```\n",
        "\n",
        "SELECT DISTINCT(CITY)\n",
        "FROM STATION\n",
        "WHERE CITY NOT LIKE ('A%')\n",
        "AND CITY NOT LIKE ('E%')\n",
        "AND CITY NOT LIKE ('I%')\n",
        "AND CITY NOT LIKE ('O%')\n",
        "AND CITY NOT LIKE ('U%')\n",
        "\n",
        "```\n",
        "\n",
        "\n",
        "\n"
      ]
    },
    {
      "cell_type": "markdown",
      "metadata": {
        "id": "Ae48UIi743DH"
      },
      "source": [
        "## Weather Obs 8\n",
        "Query the list of CITY names from STATION which have vowels (i.e., a, e, i, o, and u) as both their first and last characters. Your result cannot contain duplicates.\n",
        "\n",
        "\n",
        "\n",
        "```\n",
        "SELECT DISTINCT(CITY)\n",
        "FROM STATION\n",
        "WHERE LEFT(CITY, 1) in (\"a\", \"e\", \"i\", \"o\", \"u\")\n",
        "and RIGHT(CITY, 1) in (\"a\", \"e\", \"i\", \"o\", \"u\");\n",
        "```\n",
        "Left and right function (column, # of spaces). Doesn't work with [], those needed to be the same letter\n"
      ]
    },
    {
      "cell_type": "markdown",
      "metadata": {
        "id": "j3Wkf93vnfyd"
      },
      "source": [
        "##WEATHER STATION 10\n",
        "\n",
        "Query cities not ending in vowel, no repeats.\n",
        "\n",
        "\n",
        "\n",
        "```\n",
        "SELECT DISTINCT(CITY)\n",
        "FROM STATION\n",
        "WHERE RIGHT(CITY,1) NOT in ('a','e','i','o','u')\n",
        "```\n",
        "\n"
      ]
    },
    {
      "cell_type": "markdown",
      "metadata": {
        "id": "IhE50GBGn8nI"
      },
      "source": [
        "## Weather Obs Station 11\n",
        "Cities that either don't start with vowels or don't end with values, unique\n",
        "\n",
        "\n",
        "\n",
        "```\n",
        "SELECT DISTINCT(CITY)\n",
        "FROM STATION\n",
        "WHERE RIGHT(CITY,1) NOT in ('a','e','i','o','u')\n",
        "OR LEFT(CITY,1) NOT in ('a','e','i','o','u')\n",
        "```\n",
        "\n"
      ]
    },
    {
      "cell_type": "markdown",
      "metadata": {
        "id": "gsE7EP8_6NmR"
      },
      "source": [
        "## Weather Observation Station 12\n",
        "Query the list of CITY names from STATION that do not start with vowels AND do not end with vowels. Your result cannot contain duplicates.\n",
        "\n",
        "\n",
        "\n",
        "```\n",
        "SELECT DISTINCT(CITY)\n",
        "FROM STATION\n",
        "WHERE LEFT(CITY,1) NOT IN ('A','E','I','O','U')\n",
        "AND RIGHT(CITY,1) NOT IN ('A','E','I','O','U')\n",
        "```\n",
        "\n"
      ]
    },
    {
      "cell_type": "markdown",
      "metadata": {
        "id": "f0lnrMdQhh-U"
      },
      "source": [
        "## Weather Observation Station 13\n",
        "\n",
        "Query the sum of Northern Latitudes (LAT_N) from STATION having values greater than  and less than . Truncate your answer to  decimal places.\n",
        "\n",
        "```\n",
        "SELECT ROUND(SUM(LAT_N), 4)\n",
        "from STATION\n",
        "where LAT_N > 38.7880 and LAT_N < 137.2345\n",
        "```\n",
        "\n"
      ]
    },
    {
      "cell_type": "markdown",
      "metadata": {
        "id": "dX3oHuDnepNQ"
      },
      "source": [
        "## Weather Observation Station 14\n",
        "\n",
        "Query the greatest value of the Northern Latitudes (LAT_N) from STATION that is less than 137.2345. Truncate your answer to 4 decimal places.\n",
        "\n",
        "\n",
        "```\n",
        "select ROUND(max(LAT_N), 4)\n",
        "FROM STATION\n",
        "WHERE LAT_N < 137.2345\n",
        "```\n",
        "\n"
      ]
    },
    {
      "cell_type": "markdown",
      "metadata": {
        "id": "xQIKpfyqgz1E"
      },
      "source": [
        "## Weather Observation Station 15?\n",
        "\n",
        "Query the Western Longitude (LONG_W) for the largest Northern Latitude (LAT_N) in STATION that is less than 137.2345 . Round your answer to 4 decimal places. \n",
        "\n",
        "\n",
        "```\n",
        "select ROUND(LONG_W, 4)\n",
        "FROM STATION\n",
        "WHERE LAT_N < 137.2345\n",
        "ORDER BY LAT_N DESC\n",
        "LIMIT 1\n",
        "```\n"
      ]
    },
    {
      "cell_type": "markdown",
      "metadata": {
        "id": "RmnMgwu0Lco3"
      },
      "source": [
        "## Weather Observation Station 16\n",
        "\n",
        "Query the smallest Northern Latitude (LAT_N) from STATION that is greater than . Round your answer to  decimal places.\n",
        "```\n",
        "SELECT ROUND(MIN(LAT_N), 4)\n",
        "FROM STATION\n",
        "WHERE LAT_N > 38.7780\n",
        "```\n",
        "\n"
      ]
    },
    {
      "cell_type": "markdown",
      "metadata": {
        "id": "z8lVp3HkOjsY"
      },
      "source": [
        "## Weather Observation 17\n",
        "Query the Western Longitude (LONG_W)where the smallest Northern Latitude (LAT_N) in STATION is greater than . Round your answer to 4 decimal places.\n",
        "\n",
        "```\n",
        "SELECT ROUND(LONG_W, 4)\n",
        "FROM STATION\n",
        "WHERE LAT_N = (\n",
        "SELECT MIN(LAT_N)\n",
        "FROM STATION\n",
        "WHERE LAT_N > 38.7780\n",
        "    )\n",
        "```\n",
        "\n",
        "Using a subquery, find the row where the min happens. \n"
      ]
    },
    {
      "cell_type": "markdown",
      "metadata": {
        "id": "unWdLr8U4vVh"
      },
      "source": [
        "## Weather Observation Station 18\n",
        "\n",
        "Consider  and  to be two points on a 2D plane.\n",
        "\n",
        " happens to equal the minimum value in Northern Latitude (LAT_N in STATION).\n",
        " happens to equal the minimum value in Western Longitude (LONG_W in STATION).\n",
        " happens to equal the maximum value in Northern Latitude (LAT_N in STATION).\n",
        " happens to equal the maximum value in Western Longitude (LONG_W in STATION).\n",
        "Query the Manhattan Distance between points  and  and round it to a scale of  decimal places.\n",
        "\n",
        "```\n",
        "Select ROUND(ABS(min(LAT_N)-max(LAT_N)) + ABS(min(LONG_W) - MAX(LONG_W)), 4)\n",
        "from STATION\n",
        "```"
      ]
    },
    {
      "cell_type": "markdown",
      "metadata": {
        "id": "zeobSM21ISCv"
      },
      "source": [
        "## Weather Observation Station 19\n",
        "Consider  and  to be two points on a 2D plane where  are the respective minimum and maximum values of Northern Latitude (LAT_N) and  are the respective minimum and maximum values of Western Longitude (LONG_W) in STATION.\n",
        "\n",
        "Query the Euclidean Distance between points  and  and format your answer to display  decimal digits.\n",
        "\n",
        "```\n",
        "SELECT\n",
        "    ROUND(\n",
        "        SQRT(\n",
        "            POWER((MAX(Lat_N) - MIN(Lat_N)), 2) +\n",
        "            POWER((MAX(Long_W) - MIN(Long_W)), 2)\n",
        "            )\n",
        "        , 4)\n",
        "FROM Station;\n",
        "```\n",
        "\n"
      ]
    },
    {
      "cell_type": "markdown",
      "metadata": {
        "id": "BwsT_Y9fQJ37"
      },
      "source": [
        "## Weather Observation Station 20\n",
        "A median is defined as a number separating the higher half of a data set from the lower half. Query the median of the Northern Latitudes (LAT_N) from STATION and round your answer to  decimal places.\n",
        "\n",
        "\n",
        "```\n",
        "SELECT ROUND(MEDIAN(LAT_N), 4)\n",
        "FROM STATION;\n",
        "```\n",
        "This must be done in Oracle SQL, because otherwise it's an absolute mess of unbelievable proportions\n",
        "\n"
      ]
    },
    {
      "cell_type": "markdown",
      "metadata": {
        "id": "xOyoPIE582Qz"
      },
      "source": [
        "## Higher than 75\n",
        "Query the Name of any student in STUDENTS who scored higher than  Marks. Order your output by the last three characters of each name. If two or more students both have names ending in the same last three characters (i.e.: Bobby, Robby, etc.), secondary sort them by ascending ID.\n",
        "\n",
        "\n",
        "\n",
        "```\n",
        "SELECT NAME\n",
        "FROM STUDENTS\n",
        "WHERE MARKS > 75\n",
        "ORDER BY RIGHT(NAME,3), ID;\n",
        "```\n",
        "First order by the last 3 letter, then by the ID\n",
        "\n",
        "\n"
      ]
    },
    {
      "cell_type": "markdown",
      "metadata": {
        "id": "n8dF3p1kCRw3"
      },
      "source": [
        "## Employee salary\n",
        "\n",
        "Write a query that prints a list of employee names (i.e.: the name attribute) for employees in Employee having a salary greater than  2000 per month who have been employees for less than 10 months. Sort your result by ascending employee_id\n",
        "\n",
        "\n",
        "\n",
        "```\n",
        "SELECT NAME\n",
        "FROM EMPLOYEE\n",
        "WHERE SALARY >2000 AND MONTHS < 10\n",
        "ORDER BY EMPLOYEE_ID ASC\n",
        "```\n",
        "\n"
      ]
    },
    {
      "cell_type": "markdown",
      "metadata": {
        "id": "es0XY7CKBuTJ"
      },
      "source": [
        "## Asia Population\n",
        "Given the CITY and COUNTRY tables, query the sum of the populations of all cities where the CONTINENT is 'Asia'.\n",
        "\n",
        "Note: CITY.CountryCode and COUNTRY.Code are matching key columns.\n",
        "\n",
        "```\n",
        "SELECT SUM(CT.POPULATION)\n",
        "FROM CITY AS CT\n",
        "INNER JOIN COUNTRY AS CTR\n",
        "ON CT.COUNTRYCODE = CTR.CODE\n",
        "WHERE CONTINENT = \"Asia\"\n",
        "```\n",
        "\n"
      ]
    },
    {
      "cell_type": "markdown",
      "metadata": {
        "id": "ZjNXHJOiCNQx"
      },
      "source": [
        "## African Cities\n",
        "Given the CITY and COUNTRY tables, query the names of all cities where the CONTINENT is 'Africa'.\n",
        "\n",
        "Note: CITY.CountryCode and COUNTRY.Code are matching key columns.\n",
        "\n",
        "\n",
        "```\n",
        "SELECT CT.NAME\n",
        "FROM CITY AS CT\n",
        "INNER JOIN COUNTRY AS CTR\n",
        "ON CT.COUNTRYCODE = CTR.CODE\n",
        "WHERE CONTINENT = \"Africa\"\n",
        "```\n",
        "\n"
      ]
    },
    {
      "cell_type": "markdown",
      "metadata": {
        "id": "1bua1HbPiQen"
      },
      "source": [
        "## Average Population of each continent\n",
        "Given the CITY and COUNTRY tables, query the names of all the continents (COUNTRY.Continent) and their respective average city populations (CITY.Population) rounded down to the nearest integer.\n",
        "\n",
        "Note: CITY.CountryCode and COUNTRY.Code are matching key columns.\n",
        "\n",
        "```\n",
        "SELECT CTR.CONTINENT, FLOOR(AVG(CTY.POPULATION))\n",
        "FROM CITY as CTY\n",
        "INNER JOIN COUNTRY as CTR\n",
        "    on CTY.COUNTRYCODE = CTR.CODE\n",
        "GROUP BY CTR.CONTINENT\n",
        "```\n",
        "\n"
      ]
    },
    {
      "cell_type": "markdown",
      "metadata": {
        "id": "B0-bqPX3Ue55"
      },
      "source": [
        "## Draw a triangle 2\n",
        "\n",
        "Draw an * triangle from 1 to 20\n",
        "\n",
        "\n",
        "```\n",
        "SET @i = 0;\n",
        "SELECT REPEAT(\"* \", @i := @i + 1)\n",
        "FROM information_schema.tables\n",
        "WHERE @i < 20;\n",
        "```\n",
        "The iteration run through, i +1, happens before the print, so you have to take that into account.\n"
      ]
    },
    {
      "cell_type": "markdown",
      "metadata": {
        "id": "9bllXGQ7CYth"
      },
      "source": [
        "## Type of triangle\n",
        "\n",
        "Write a query identifying the type of each record in the TRIANGLES table using its three side lengths. Output one of the following statements for each record in the table:\n",
        "\n",
        "Equilateral: It's a triangle with 3 sides of equal length.\n",
        "Isosceles: It's a triangle with 2  sides of equal length.\n",
        "Scalene: It's a triangle with 3 sides of differing lengths.\n",
        "Not A Triangle: The given values of A, B, and C don't form a triangle.\n",
        "Input Format\n",
        "\n",
        "The TRIANGLES table is described as follows:\n",
        "\n",
        "\n",
        "\n",
        "Each row in the table denotes the lengths of each of a triangle's three sides.\n",
        "\n",
        "Sample Input\n",
        "\n",
        "![image.png](data:image/png;base64,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)\n",
        "\n",
        "Sample Output\n",
        "\n",
        "Isosceles\n",
        "\n",
        "Equilateral\n",
        "\n",
        "Scalene\n",
        "\n",
        "Not A Triangle\n",
        "\n",
        "\n",
        "\n",
        "```\n",
        "SELECT\n",
        "    IF(A+B<=C or A+C<=B or C+B<=A, 'Not A Triangle',\n",
        "    IF(A=B AND B=C, 'Equilateral',\n",
        "    IF(A=B OR B=C OR A=C, 'Isosceles', 'Scalene')))\n",
        "FROM TRIANGLES\n",
        "```\n",
        "These cascading if statements start with if(condition, action, else if(condition, action, else if(condition...\n",
        "The logic here is to take care of the conditions that catch all the exceptions first\n"
      ]
    },
    {
      "cell_type": "markdown",
      "metadata": {
        "id": "4_WQSnftcr_0"
      },
      "source": [
        "## The PADS\n",
        "Generate the following two result sets:\n",
        "\n",
        "Query an alphabetically ordered list of all names in OCCUPATIONS, immediately followed by the first letter of each profession as a parenthetical (i.e.: enclosed in parentheses). For example: AnActorName(A), ADoctorName(D), AProfessorName(P), and ASingerName(S).\n",
        "Query the number of ocurrences of each occupation in OCCUPATIONS. Sort the occurrences in ascending order, and output them in the following format:\n",
        "\n",
        "There are a total of [occupation_count] [occupation]s.\n",
        "where [occupation_count] is the number of occurrences of an occupation in OCCUPATIONS and [occupation] is the lowercase occupation name. If more than one Occupation has the same [occupation_count], they should be ordered alphabetically.\n",
        "\n",
        "Note: There will be at least two entries in the table for each type of occupation.\n",
        "\n",
        "Input Format\n",
        "\n",
        "The OCCUPATIONS table is described as follows:Occupation will only contain one of the following values: Doctor, Professor, Singer or Actor.\n",
        "\n",
        "Sample Input\n",
        "\n",
        "An OCCUPATIONS table that contains the following records:\n",
        "\n",
        "\n",
        "\n",
        "Sample Output\n",
        "\n",
        "Ashely(P)\n",
        "Christeen(P)\n",
        "Jane(A)\n",
        "Jenny(D)\n",
        "Julia(A)\n",
        "Ketty(P)\n",
        "Maria(A)\n",
        "Meera(S)\n",
        "Priya(S)\n",
        "Samantha(D)\n",
        "There are a total of 2 doctors.\n",
        "There are a total of 2 singers.\n",
        "There are a total of 3 actors.\n",
        "There are a total of 3 professors.\n",
        "\n",
        "\n",
        "\n",
        "```\n",
        "SELECT CONCAT(NAME, \"(\", SUBSTR(OCCUPATION, 1, 1), \")\")\n",
        "FROM OCCUPATIONS\n",
        "ORDER BY NAME;\n",
        "\n",
        "SELECT CONCAT(\"There are a total of \", COUNT(OCCUPATION), \" \", LOWER(OCCUPATION), \"s.\")\n",
        "FROM OCCUPATIONS\n",
        "GROUP BY OCCUPATION\n",
        "ORDER BY COUNT(OCCUPATION), OCCUPATION;\n",
        "```\n",
        "Substring looks into the pattern, starting at location, for this many characters\n",
        "\n",
        "Group by is necessary because there is a non aggregate function with the count function\n"
      ]
    },
    {
      "cell_type": "markdown",
      "metadata": {
        "id": "JOPfB0QlDw9P"
      },
      "source": [
        "## The Blunder\n",
        "Samantha was tasked with calculating the average monthly salaries for all employees in the EMPLOYEES table, but did not realize her keyboard's  key was broken until after completing the calculation. She wants your help finding the difference between her miscalculation (using salaries with any zeroes removed), and the actual average salary.\n",
        "\n",
        "Write a query calculating the amount of error (i.e.: acutal - miscalc average monthly salaries), and round it up to the next integer.\n",
        "\n",
        "\n",
        "\n",
        "```\n",
        "SELECT Ceil(Avg(salary) - AVG(replace(Salary, '0','')))\n",
        "From employees\n",
        "```\n",
        "ceiling rounds up.\n"
      ]
    },
    {
      "cell_type": "markdown",
      "metadata": {
        "id": "AedrRkH-8gE2"
      },
      "source": [
        "## New Companies\n",
        "Amber's conglomerate corporation just acquired some new companies. Each of the companies follows this hierarchy:\n",
        "\n",
        "Given the table schemas below, write a query to print the company_code, founder name, total number of lead managers, total number of senior managers, total number of managers, and total number of employees. Order your output by ascending company_code.\n",
        "\n",
        "Note:\n",
        "\n",
        "The tables may contain duplicate records.\n",
        "The company_code is string, so the sorting should not be numeric. For example, if the company_codes are C_1, C_2, and C_10, then the ascending company_codes will be C_1, C_10, and C_2.\n",
        "\n",
        "```\n",
        "select c.company_code, \n",
        "    c.founder, \n",
        "    count(distinct e.lead_manager_code), \n",
        "    count(distinct e.senior_manager_code), \n",
        "    count(distinct e.manager_code), \n",
        "    count(distinct e.employee_code)\n",
        "from company c\n",
        "    inner join employee e on e.company_code = c.company_code\n",
        "group by c.company_code,c.founder\n",
        "order by c.company_code;\n",
        "```\n",
        "\n"
      ]
    },
    {
      "cell_type": "markdown",
      "metadata": {
        "id": "N2hJCZI3PrzE"
      },
      "source": [
        "## The Report\n",
        "\n",
        "You are given two tables: Students and Grades. Students contains three columns ID, Name and Marks.\n",
        "\n",
        "Grades contains the following data:\n",
        "\n",
        "Ketty gives Eve a task to generate a report containing three columns: Name, Grade and Mark. Ketty doesn't want the NAMES of those students who received a grade lower than 8. The report must be in descending order by grade -- i.e. higher grades are entered first. If there is more than one student with the same grade (8-10) assigned to them, order those particular students by their name alphabetically. Finally, if the grade is lower than 8, use \"NULL\" as their name and list them by their grades in descending order. If there is more than one student with the same grade (1-7) assigned to them, order those particular students by their marks in ascending order.\n",
        "\n",
        "Write a query to help Eve.\n",
        "\n",
        "```\n",
        "SELECT\n",
        "CASE\n",
        "    WHEN GRADES.GRADE > 7 THEN STUDENTS.NAME\n",
        "    WHEN GRADES.GRADE < 8 THEN NULL\n",
        "END, GRADES.GRADE, STUDENTS.MARKS\n",
        "FROM STUDENTS\n",
        "INNER JOIN GRADES ON \n",
        "    STUDENTS.MARKS BETWEEN GRADES.MIN_MARK AND GRADES.MAX_MARK\n",
        "ORDER BY GRADES.GRADE DESC, STUDENTS.NAME ASC, STUDENTS.MARKS DESC\n",
        "```\n",
        "Make a case for either a name when grades above 7 or null otherwise.  \n",
        "then the grade and marks so: name, grade, marks  \n",
        "\n",
        "then we inner join on marks BETWEEN min_mark and max_mark.  \n",
        "Order by highest grade, alpha name, and highest marks"
      ]
    },
    {
      "cell_type": "markdown",
      "metadata": {
        "id": "rk1CZn10mTW-"
      },
      "source": [
        "## Contest Leaderboard\n",
        "\n",
        "You did such a great job helping Julia with her last coding contest challenge that she wants you to work on this one, too!\n",
        "\n",
        "The total score of a hacker is the sum of their maximum scores for all of the challenges. Write a query to print the hacker_id, name, and total score of the hackers ordered by the descending score. If more than one hacker achieved the same total score, then sort the result by ascending hacker_id. Exclude all hackers with a total score of 0 from your result.\n",
        "\n",
        "\n",
        "\n",
        "```\n",
        "SELECT h.hacker_id, h.name, SUM(score) as total_score \n",
        "FROM hackers as h\n",
        "INNER JOIN\n",
        "    (\n",
        "    SELECT hacker_id, MAX(score) as score\n",
        "    FROM submissions\n",
        "    GROUP BY challenge_id, hacker_id\n",
        "    ) as sub\n",
        "ON h.hacker_id = sub.hacker_id\n",
        "GROUP BY h.hacker_id, name\n",
        "\n",
        "HAVING total_score > 0\n",
        "Order by total_score DESC, h.hacker_id;\n",
        "```\n",
        "Start with SELECTING your targets  \n",
        "\n",
        "join on a subquery where you specify an agg score, grouping the challenge id first, and the hacker after that  \n",
        "\n",
        "Group again because we want the sum of the scores\n",
        "Use HAVING here because it's easier?\n",
        "\n"
      ]
    },
    {
      "cell_type": "markdown",
      "metadata": {
        "id": "TINU5DlY7qyc"
      },
      "source": [
        "## Olivander's Inventory\n",
        "\n",
        "This one is poorly explained\n",
        "Harry Potter and his friends are at Ollivander's with Ron, finally replacing Charlie's old broken wand.\n",
        "\n",
        "Hermione decides the best way to choose is by determining the minimum number of gold galleons needed to buy each non-evil wand of high power and age. Write a query to print the id, age, coins_needed, and power of the wands that Ron's interested in, sorted in order of descending power. If more than one wand has same power, sort the result in order of descending age.\n",
        "\n",
        "```\n",
        "SELECT w.id, p.age, w.coins_needed, w.power  \n",
        "FROM  Wands as w \n",
        "JOIN Wands_Property as p \n",
        "  ON (w.code = p.code)\n",
        "   WHERE p.is_evil = 0 and  w.coins_needed=\n",
        "(SELECT MIN(coins_needed) \n",
        "FROM Wands as w1 \n",
        "join Wands_Property as p1 on (w1.code = p1.code) \n",
        "where w1.power = w.power and p1.age = p.age)\n",
        "ORDER BY W.power DESC, age DESC\n",
        "```\n",
        "Select needed columns,  join on two conditions: one not evil, 2 calculate the coins and min coin in a power, age pair.  \n",
        "\n"
      ]
    },
    {
      "cell_type": "markdown",
      "metadata": {
        "id": "r2cNEl4RONg3"
      },
      "source": [
        "# REGEX SECTION"
      ]
    },
    {
      "cell_type": "markdown",
      "metadata": {
        "id": "CQiIAco1OSqB"
      },
      "source": [
        "##Matching Anything But a Newline\n",
        "You have a test string S .\n",
        "Your task is to write a regular expression that matches only and exactly strings of form: abc.def.ghi.jkx , where each variable a,b,c,d,etc. can be any single character except the newline.\n",
        "\n",
        "\n",
        "\n",
        "```\n",
        "# You need to know about anchors for this one ^ is the starting anchor and $ is the ending.\n",
        " I think having it hang off without the anchor like that might match additional patterns, \n",
        " so you have to specify its end\n",
        "regex_pattern = r\"...\\....\\....\\....$\"\n",
        "```\n",
        "\n"
      ]
    },
    {
      "cell_type": "markdown",
      "metadata": {
        "id": "0TNu0DOiK8fg"
      },
      "source": [
        "SPECIAL SEQUENCES\n",
        "\n",
        "\n",
        "*   \\d for digits, \\D for non digits\n",
        "*   \\s for whitespace, \\S for any non whitespace\n",
        "*   \\w for alpha-numeric and underscores, \\W for !@$ #^%&*)`~ etc.\n",
        "\n",
        "*   ^ to match string at beginning, $ to match it at the end\n",
        "\n",
        "\n",
        "\n"
      ]
    },
    {
      "cell_type": "markdown",
      "metadata": {
        "id": "5rCZ3SjhTD8z"
      },
      "source": [
        "METACHARACTERS\n",
        "\n",
        "[] is  a set of characters\n",
        "\\\tsignify special sequence or escape a special\t\"\\d\"\t\n",
        ".\tAny char but \\n\t\"he..o\"\t\n",
        "^\tmatches the start\t\"^hello\"\t\n",
        "$\tmatches the end   \"world\\$\"\t\n",
        "*\tNone or more occur\t\"aix\\*\"\t\n",
        "+\tOne or more occur\t\"aix+\"\t\n",
        "{}\tExactly the specified number of occurrences\t\"al{2}\"\t\n",
        "|\tEither or\t\"falls|stays\"\t\n",
        "()\tCapture and group"
      ]
    },
    {
      "cell_type": "markdown",
      "metadata": {
        "id": "GbhZpLpVacPU"
      },
      "source": [
        "## Match start and end\n",
        "![image.png](data:image/png;base64,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)\n",
        "\n",
        "\n",
        "\n",
        "---\n",
        "\n",
        "\n",
        "\n",
        "```\n",
        "Regex_Pattern = r\"^\\d\\w{4}.$\"\t\n",
        "```\n",
        "\n"
      ]
    },
    {
      "cell_type": "markdown",
      "metadata": {
        "id": "ZHCyQDv2tq75"
      },
      "source": [
        "## Match string with 6 chars\n",
        "You have a test string .\n",
        "Your task is to write a regex that will match  with following conditions:\n",
        "\n",
        "S must be of length: 6\n",
        "First character: 1, 2 or 3\n",
        "Second character: 1, 2 or 0\n",
        "Third character: x, s or 0\n",
        "Fourth character: 3, 0 , A or a\n",
        "Fifth character: x, s or u\n",
        "Sixth character: . or ,\n",
        "\n",
        "\n",
        "\n",
        "```\n",
        "Regex_Pattern = r'^[123][120][xs0][30A+a+][xs+u+][\\.,]$'\n",
        "```\n",
        "Needs the ^ and $ to make sure it's 6 characters\n"
      ]
    },
    {
      "cell_type": "markdown",
      "metadata": {
        "id": "pdz7PjPxPgss"
      },
      "source": [
        "##Excluding specific chars\n",
        "You have a test string S.\n",
        "Your task is to write a regex that will match  with the following conditions:\n",
        "\n",
        "S must be of length 6.\n",
        "First character should not be a digit ( 0-9).\n",
        "Second character should not be a lowercase vowel (aeiou).\n",
        "Third character should not be b, c, D or F.\n",
        "Fourth character should not be a whitespace character ( \\r, \\n, \\t, \\f or <space> ).\n",
        "Fifth character should not be a uppercase vowel (  AEIOU  ).\n",
        "Sixth character should not be a . or , symbol.\n",
        "\n",
        "\n",
        "\n",
        "```\n",
        "Regex_Pattern = r'^\\D[^aeiou][^bcDF]\\S[^AEIOU][^.,]$'\n",
        "```\n",
        "You can see the ^ inside a [] is not, but just at the beginning, it signifies the start of a string, just as we need the $ at the end\n"
      ]
    },
    {
      "cell_type": "markdown",
      "metadata": {
        "id": "t-_jac1NRH9W"
      },
      "source": [
        "## Match ranges\n",
        "- inside of [] means a range. [0-9] = [0123456789]\n",
        "\n",
        "Write a RegEx that will match a string satisfying the following conditions:\n",
        "\n",
        "The string's length is >5.\n",
        "The first character must be a lowercase English alphabetic character.\n",
        "The second character must be a positive digit. Note that we consider zero to be neither positive nor negative.\n",
        "The third character must not be a lowercase English alphabetic character.\n",
        "The fourth character must not be an uppercase English alphabetic character.\n",
        "The fifth character must be an uppercase English alphabetic character.\n",
        "\n",
        "\n",
        "\n",
        "```\n",
        "Regex_Pattern = r'^[a-z][1-9][^a-z][^A-Z][A-Z]+'\n",
        "```\n",
        "\n"
      ]
    },
    {
      "cell_type": "markdown",
      "metadata": {
        "id": "Y56sGv6RT1At"
      },
      "source": [
        "## Exact number of matches\n",
        "\n",
        "[xyz]{5} : It will match the string of length  consisting of characters {x, y, z}. For example it will match xxxxx, xxxyy and xyxyz.\n",
        "\\d{4} : It will match any digit exactly 4 times.\n",
        "\n",
        "Your task is to write a regex that will match  using the following conditions:\n",
        "\n",
        "S must be of length equal to 45.\n",
        "The first 40 characters should consist of letters(both lowercase and uppercase), or of even digits.\n",
        "The last 5 characters should consist of odd digits or whitespace characters.\n",
        "\n",
        "\n",
        "\n",
        "```\n",
        "Regex_Pattern = r'^[a-zA-Z24680]{40}[\\s13579]{5}$'\n",
        "```\n",
        "\n"
      ]
    },
    {
      "cell_type": "markdown",
      "metadata": {
        "id": "-1ot7wMeTpfu"
      },
      "source": [
        "## {x,y} Repetitions\n",
        "For Example:\n",
        "\n",
        "w{3,5} : It will match the character w 3, 4 or 5 times.\n",
        "[xyz]{5,} : It will match the character x, y or z 5 or more times.\n",
        "\\d{1, 4} : It will match any digits 1, 2, 3, or 4 times.\n",
        "\n",
        "Task\n",
        "\n",
        "You have a test string S.\n",
        "Your task is to write a regex that will match S using the following conditions:\n",
        "\n",
        "S should begin with 1 or 2 digits.\n",
        "After that, S should have 3 or more letters (both lowercase and uppercase).\n",
        "Then S should end with up to  3 . symbol(s). You can end with 0 to 3 . symbol(s), inclusively.\n",
        "\n",
        "\n",
        "\n",
        "```\n",
        "Regex_Pattern = r'^\\d{1,2}[a-zA-Z]{3,}\\.{0,3}$'\t# Do not delete 'r'.\n",
        "\n",
        "import re\n",
        "\n",
        "print(str(bool(re.search(Regex_Pattern, input()))).lower())\n",
        "```\n",
        "search the input() for the regex pattern  \n",
        "make that a boolean value  \n",
        "lower case  \n",
        "string"
      ]
    },
    {
      "cell_type": "code",
      "metadata": {
        "id": "e-8e3rMGPlmu",
        "colab": {
          "base_uri": "https://localhost:8080/",
          "height": 527
        },
        "outputId": "08c69352-d245-4afa-d559-233d8ef4a789"
      },
      "source": [
        "#### Test if a string is proper regex\n",
        "import re\n",
        "num_strings = int(input())\n",
        "for _ in range(num_strings):\n",
        "    try:\n",
        "        print(bool(re.compile(input())))\n",
        "    except re.error:\n",
        "        print(False)\n",
        "\n",
        "### put the string directly into regex compiler and test it, re.error for except"
      ],
      "execution_count": null,
      "outputs": [
        {
          "output_type": "error",
          "ename": "KeyboardInterrupt",
          "evalue": "ignored",
          "traceback": [
            "\u001b[0;31m---------------------------------------------------------------------------\u001b[0m",
            "\u001b[0;31mKeyboardInterrupt\u001b[0m                         Traceback (most recent call last)",
            "\u001b[0;32m/usr/local/lib/python3.6/dist-packages/ipykernel/kernelbase.py\u001b[0m in \u001b[0;36m_input_request\u001b[0;34m(self, prompt, ident, parent, password)\u001b[0m\n\u001b[1;32m    728\u001b[0m             \u001b[0;32mtry\u001b[0m\u001b[0;34m:\u001b[0m\u001b[0;34m\u001b[0m\u001b[0;34m\u001b[0m\u001b[0m\n\u001b[0;32m--> 729\u001b[0;31m                 \u001b[0mident\u001b[0m\u001b[0;34m,\u001b[0m \u001b[0mreply\u001b[0m \u001b[0;34m=\u001b[0m \u001b[0mself\u001b[0m\u001b[0;34m.\u001b[0m\u001b[0msession\u001b[0m\u001b[0;34m.\u001b[0m\u001b[0mrecv\u001b[0m\u001b[0;34m(\u001b[0m\u001b[0mself\u001b[0m\u001b[0;34m.\u001b[0m\u001b[0mstdin_socket\u001b[0m\u001b[0;34m,\u001b[0m \u001b[0;36m0\u001b[0m\u001b[0;34m)\u001b[0m\u001b[0;34m\u001b[0m\u001b[0;34m\u001b[0m\u001b[0m\n\u001b[0m\u001b[1;32m    730\u001b[0m             \u001b[0;32mexcept\u001b[0m \u001b[0mException\u001b[0m\u001b[0;34m:\u001b[0m\u001b[0;34m\u001b[0m\u001b[0;34m\u001b[0m\u001b[0m\n",
            "\u001b[0;32m/usr/local/lib/python3.6/dist-packages/jupyter_client/session.py\u001b[0m in \u001b[0;36mrecv\u001b[0;34m(self, socket, mode, content, copy)\u001b[0m\n\u001b[1;32m    802\u001b[0m         \u001b[0;32mtry\u001b[0m\u001b[0;34m:\u001b[0m\u001b[0;34m\u001b[0m\u001b[0;34m\u001b[0m\u001b[0m\n\u001b[0;32m--> 803\u001b[0;31m             \u001b[0mmsg_list\u001b[0m \u001b[0;34m=\u001b[0m \u001b[0msocket\u001b[0m\u001b[0;34m.\u001b[0m\u001b[0mrecv_multipart\u001b[0m\u001b[0;34m(\u001b[0m\u001b[0mmode\u001b[0m\u001b[0;34m,\u001b[0m \u001b[0mcopy\u001b[0m\u001b[0;34m=\u001b[0m\u001b[0mcopy\u001b[0m\u001b[0;34m)\u001b[0m\u001b[0;34m\u001b[0m\u001b[0;34m\u001b[0m\u001b[0m\n\u001b[0m\u001b[1;32m    804\u001b[0m         \u001b[0;32mexcept\u001b[0m \u001b[0mzmq\u001b[0m\u001b[0;34m.\u001b[0m\u001b[0mZMQError\u001b[0m \u001b[0;32mas\u001b[0m \u001b[0me\u001b[0m\u001b[0;34m:\u001b[0m\u001b[0;34m\u001b[0m\u001b[0;34m\u001b[0m\u001b[0m\n",
            "\u001b[0;32m/usr/local/lib/python3.6/dist-packages/zmq/sugar/socket.py\u001b[0m in \u001b[0;36mrecv_multipart\u001b[0;34m(self, flags, copy, track)\u001b[0m\n\u001b[1;32m    490\u001b[0m         \"\"\"\n\u001b[0;32m--> 491\u001b[0;31m         \u001b[0mparts\u001b[0m \u001b[0;34m=\u001b[0m \u001b[0;34m[\u001b[0m\u001b[0mself\u001b[0m\u001b[0;34m.\u001b[0m\u001b[0mrecv\u001b[0m\u001b[0;34m(\u001b[0m\u001b[0mflags\u001b[0m\u001b[0;34m,\u001b[0m \u001b[0mcopy\u001b[0m\u001b[0;34m=\u001b[0m\u001b[0mcopy\u001b[0m\u001b[0;34m,\u001b[0m \u001b[0mtrack\u001b[0m\u001b[0;34m=\u001b[0m\u001b[0mtrack\u001b[0m\u001b[0;34m)\u001b[0m\u001b[0;34m]\u001b[0m\u001b[0;34m\u001b[0m\u001b[0;34m\u001b[0m\u001b[0m\n\u001b[0m\u001b[1;32m    492\u001b[0m         \u001b[0;31m# have first part already, only loop while more to receive\u001b[0m\u001b[0;34m\u001b[0m\u001b[0;34m\u001b[0m\u001b[0;34m\u001b[0m\u001b[0m\n",
            "\u001b[0;32mzmq/backend/cython/socket.pyx\u001b[0m in \u001b[0;36mzmq.backend.cython.socket.Socket.recv\u001b[0;34m()\u001b[0m\n",
            "\u001b[0;32mzmq/backend/cython/socket.pyx\u001b[0m in \u001b[0;36mzmq.backend.cython.socket.Socket.recv\u001b[0;34m()\u001b[0m\n",
            "\u001b[0;32mzmq/backend/cython/socket.pyx\u001b[0m in \u001b[0;36mzmq.backend.cython.socket._recv_copy\u001b[0;34m()\u001b[0m\n",
            "\u001b[0;32m/usr/local/lib/python3.6/dist-packages/zmq/backend/cython/checkrc.pxd\u001b[0m in \u001b[0;36mzmq.backend.cython.checkrc._check_rc\u001b[0;34m()\u001b[0m\n",
            "\u001b[0;31mKeyboardInterrupt\u001b[0m: ",
            "\nDuring handling of the above exception, another exception occurred:\n",
            "\u001b[0;31mKeyboardInterrupt\u001b[0m                         Traceback (most recent call last)",
            "\u001b[0;32m<ipython-input-1-93523c680480>\u001b[0m in \u001b[0;36m<module>\u001b[0;34m()\u001b[0m\n\u001b[1;32m      1\u001b[0m \u001b[0;31m#### Test if a string is proper regex\u001b[0m\u001b[0;34m\u001b[0m\u001b[0;34m\u001b[0m\u001b[0;34m\u001b[0m\u001b[0m\n\u001b[1;32m      2\u001b[0m \u001b[0;32mimport\u001b[0m \u001b[0mre\u001b[0m\u001b[0;34m\u001b[0m\u001b[0;34m\u001b[0m\u001b[0m\n\u001b[0;32m----> 3\u001b[0;31m \u001b[0mnum_strings\u001b[0m \u001b[0;34m=\u001b[0m \u001b[0mint\u001b[0m\u001b[0;34m(\u001b[0m\u001b[0minput\u001b[0m\u001b[0;34m(\u001b[0m\u001b[0;34m)\u001b[0m\u001b[0;34m)\u001b[0m\u001b[0;34m\u001b[0m\u001b[0;34m\u001b[0m\u001b[0m\n\u001b[0m\u001b[1;32m      4\u001b[0m \u001b[0;32mfor\u001b[0m \u001b[0m_\u001b[0m \u001b[0;32min\u001b[0m \u001b[0mrange\u001b[0m\u001b[0;34m(\u001b[0m\u001b[0mnum_strings\u001b[0m\u001b[0;34m)\u001b[0m\u001b[0;34m:\u001b[0m\u001b[0;34m\u001b[0m\u001b[0;34m\u001b[0m\u001b[0m\n\u001b[1;32m      5\u001b[0m     \u001b[0;32mtry\u001b[0m\u001b[0;34m:\u001b[0m\u001b[0;34m\u001b[0m\u001b[0;34m\u001b[0m\u001b[0m\n",
            "\u001b[0;32m/usr/local/lib/python3.6/dist-packages/ipykernel/kernelbase.py\u001b[0m in \u001b[0;36mraw_input\u001b[0;34m(self, prompt)\u001b[0m\n\u001b[1;32m    702\u001b[0m             \u001b[0mself\u001b[0m\u001b[0;34m.\u001b[0m\u001b[0m_parent_ident\u001b[0m\u001b[0;34m,\u001b[0m\u001b[0;34m\u001b[0m\u001b[0;34m\u001b[0m\u001b[0m\n\u001b[1;32m    703\u001b[0m             \u001b[0mself\u001b[0m\u001b[0;34m.\u001b[0m\u001b[0m_parent_header\u001b[0m\u001b[0;34m,\u001b[0m\u001b[0;34m\u001b[0m\u001b[0;34m\u001b[0m\u001b[0m\n\u001b[0;32m--> 704\u001b[0;31m             \u001b[0mpassword\u001b[0m\u001b[0;34m=\u001b[0m\u001b[0;32mFalse\u001b[0m\u001b[0;34m,\u001b[0m\u001b[0;34m\u001b[0m\u001b[0;34m\u001b[0m\u001b[0m\n\u001b[0m\u001b[1;32m    705\u001b[0m         )\n\u001b[1;32m    706\u001b[0m \u001b[0;34m\u001b[0m\u001b[0m\n",
            "\u001b[0;32m/usr/local/lib/python3.6/dist-packages/ipykernel/kernelbase.py\u001b[0m in \u001b[0;36m_input_request\u001b[0;34m(self, prompt, ident, parent, password)\u001b[0m\n\u001b[1;32m    732\u001b[0m             \u001b[0;32mexcept\u001b[0m \u001b[0mKeyboardInterrupt\u001b[0m\u001b[0;34m:\u001b[0m\u001b[0;34m\u001b[0m\u001b[0;34m\u001b[0m\u001b[0m\n\u001b[1;32m    733\u001b[0m                 \u001b[0;31m# re-raise KeyboardInterrupt, to truncate traceback\u001b[0m\u001b[0;34m\u001b[0m\u001b[0;34m\u001b[0m\u001b[0;34m\u001b[0m\u001b[0m\n\u001b[0;32m--> 734\u001b[0;31m                 \u001b[0;32mraise\u001b[0m \u001b[0mKeyboardInterrupt\u001b[0m\u001b[0;34m\u001b[0m\u001b[0;34m\u001b[0m\u001b[0m\n\u001b[0m\u001b[1;32m    735\u001b[0m             \u001b[0;32melse\u001b[0m\u001b[0;34m:\u001b[0m\u001b[0;34m\u001b[0m\u001b[0;34m\u001b[0m\u001b[0m\n\u001b[1;32m    736\u001b[0m                 \u001b[0;32mbreak\u001b[0m\u001b[0;34m\u001b[0m\u001b[0;34m\u001b[0m\u001b[0m\n",
            "\u001b[0;31mKeyboardInterrupt\u001b[0m: "
          ]
        }
      ]
    },
    {
      "cell_type": "markdown",
      "metadata": {
        "id": "S1EjmEDhIDGK"
      },
      "source": [
        "## Zero or more with *\n",
        "\n",
        "Task\n",
        "\n",
        "You have a test string S.\n",
        "Your task is to write a regex that will match S using the following conditions:\n",
        "\n",
        "S should begin with 2 or more digits.\n",
        "After that, S should have 0 or more lowercase letters.\n",
        "S should end with 0 or more uppercase letters\n",
        "\n",
        "\n",
        "\n",
        "```\n",
        "Regex_Pattern = r'^\\d{2,}[a-z]*[A-Z]*$'\n",
        "```\n",
        "\n"
      ]
    },
    {
      "cell_type": "markdown",
      "metadata": {
        "id": "vpRMfoAOMaj9"
      },
      "source": [
        "## One or more with +\n",
        "\n",
        "\n",
        "\n",
        "```\n",
        "Regex_Pattern = '^\\d+[A-Z]+[a-z]+$'\n",
        "```\n",
        "\n"
      ]
    },
    {
      "cell_type": "markdown",
      "metadata": {
        "id": "_M36czhjM2cg"
      },
      "source": [
        "## Match ending with $\n",
        " Only letters, ending with s\n",
        "\n",
        "\n",
        "\n",
        "```\n",
        "Regex_Pattern = '^[a-zA-Z]*s$'\n",
        "```\n",
        "\n"
      ]
    },
    {
      "cell_type": "markdown",
      "metadata": {
        "id": "VMXfVxvQhWfO"
      },
      "source": [
        "## Word Boundary \\b\n",
        "\n",
        "\\b assert position at a word boundary.\n",
        "\n",
        "Three different positions qualify for word boundaries :  \n",
        "► Before the first character in the string, if the first character is a word character.  \n",
        "► Between two characters in the string, where one is a word character and the other is not a word character.  \n",
        "► After the last character in the string, if the last character is a word character.\n",
        "\n",
        "You have a test String S.\n",
        "Your task is to write a regex which will match word starting with vowel (a,e,i,o, u, A, E, I , O or U).\n",
        "The matched word can be of any length. The matched word should consist of letters (lowercase and uppercase both) only.\n",
        "The matched word must start and end with a word boundary.\n",
        "\n",
        "\n",
        "\n",
        "```\n",
        "Regex_Pattern = r'\\b[aeiouAEIOU][a-zA-Z]*\\b'\n",
        "```\n",
        "\\b differs from ^ and $ because it can search substrings\n"
      ]
    },
    {
      "cell_type": "markdown",
      "metadata": {
        "id": "wN2eGQmEZOqU"
      },
      "source": [
        "## Capturing and non-capturing sections\n",
        "Parenthesis ( ) around a regular expression can group that part of regex together. This allows us to apply different quantifiers to that group.\n",
        "\n",
        "These parenthesis also create a numbered capturing. It stores the part of string matched by the part of regex inside parentheses.\n",
        "\n",
        "These numbered capturing can be used for backreferences. ( We shall learn about it later )\n",
        "(?: ) can be used to create a non-capturing group. It is useful if we do not need the group to capture its match.\n",
        "\n",
        "![image.png](data:image/png;base64,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)\n",
        "\n",
        "```\n",
        "Regex_Pattern = r'(ok){3,}'\t\n",
        "```\n",
        "\n",
        "capture the text matched by the regex inside them into a numbered group that can be reused with a numbered backreference. They allow you to apply regex operators to the entire grouped regex."
      ]
    },
    {
      "cell_type": "markdown",
      "metadata": {
        "id": "Ind6xZJhaw3U"
      },
      "source": [
        "## Alternative Matching\n",
        "\n",
        "Alternations, denoted by the | character, match a single item out of several possible items separated by the vertical bar. When used inside a character class, it will match characters; when used inside a group, it will match entire expressions (i.e., everything to the left or everything to the right of the vertical bar). We must use parentheses to limit the use of alternations.\n",
        "\n",
        "For example:\n",
        "\n",
        "(Bob|Kevin|Stuart) will match either Bob or Kevin or Stuart.\n",
        "([a-f]|[A-F]) will match any of the following characters: a, b, c, d, e, f, A, B, C, D, E, or F.\n",
        "Task\n",
        "\n",
        "Given a test string, S, write a RegEx that matches S under the following conditions:\n",
        "\n",
        "S must start with Mr., Mrs., Ms., Dr. or Er..\n",
        "The rest of the string must contain only one or more English alphabetic letters (upper and lowercase).\n",
        "\n",
        "\n",
        "\n",
        "```\n",
        "Regex_Pattern = r'^(Mr\\.|Mrs\\.|Ms\\.|Dr\\.|Er\\.)[a-zA-Z]+$'\n",
        "```\n",
        "\n",
        "\n"
      ]
    },
    {
      "cell_type": "markdown",
      "metadata": {
        "id": "FKPor-sabz3b"
      },
      "source": [
        "## Matching Same Text Again & Aga\n",
        "\n",
        "\\group_number  \n",
        "\n",
        "This tool (\\1 references the first capturing group) matches the same text as previously matched by the capturing group.\n",
        "\n",
        "You need the matching group in ()\n",
        "\n",
        "You have a test string S.\n",
        "Your task is to write a regex that will match  with the following conditions:\n",
        "\n",
        " S must be of length: 20  \n",
        " character: lowercase letter.  \n",
        " character: word character.  \n",
        " character: whitespace character.  \n",
        " character: non word character.  \n",
        " character: digit.  \n",
        " character: non digit.    \n",
        " character: uppercase letter.  \n",
        " character: letter (either lowercase or uppercase).  \n",
        " character: vowel (a, e, i , o , u, A, E, I, O or U).  \n",
        " character: non whitespace character.    \n",
        " character: should be same as 1st character.  \n",
        " character: should be same as 2nd character.  \n",
        " character: should be same as 3rd character.     \n",
        " character: should be same as 4th character.\n",
        " character: should be same as 5th character.  \n",
        " character: should be same as 6th character.\n",
        " character: should be same as 7th character.   \n",
        " character: should be same as 8th character.  \n",
        " character: should be same as 9th character.  \n",
        " character: should be same as 10th character.  \n",
        "\n",
        "\n",
        "\n",
        "```\n",
        "Regex_Pattern = r'^([a-z]\\w\\s\\W\\d\\D[A-Z][a-zA-Z][aeiouAEIOU]\\S)\\1'\n",
        "```\n",
        "Here we set one matching group and then use \\1 to reference the entire group again\n"
      ]
    },
    {
      "cell_type": "markdown",
      "metadata": {
        "id": "K28DJIdeMlNJ"
      },
      "source": [
        "## Backreference a failed group\n",
        "\n",
        "Backreference to a capturing group that match nothing is different from backreference to a capturing group that did not participate in the match at all.  \n",
        "\n",
        "Capturing group that match nothing\n",
        "\n",
        "\n",
        "```\n",
        "(b?)o\\1\n",
        "\n",
        "matches\n",
        "\n",
        "o\n",
        "```\n",
        "\n",
        "\n",
        "Here, b? is optional and matches nothing.  \n",
        "Thus, (b?) is successfully matched and capture nothing.  \n",
        "o is matched with o and \\1 successfully matches the nothing captured by the group.  \n",
        "  \n",
        "You have a test string S.  \n",
        "Your task is to write a regex which will match S, with following condition(s):\n",
        "\n",
        "S consists of 8 digits.  \n",
        "S may have \"\" separator such that string  gets divided in  parts, with each part having exactly two digits. (Eg. 12-34-56-78)\n",
        "\n",
        "\n",
        "\n",
        "```\n",
        "Regex_Pattern = r\"^\\d\\d(-?)\\d\\d\\1\\d\\d\\1\\d\\d$\"\n",
        "```\n",
        "Since it's either all or nothing on the dashes, you need to backreference whether the first one hit or not\n"
      ]
    },
    {
      "cell_type": "markdown",
      "metadata": {
        "id": "fmvW2zitGr-y"
      },
      "source": [
        "## Positive look ahead \n",
        "regex_1(? = regex_2)  \n",
        "\n",
        "The positive lookahead (?=) asserts regex_1 to be immediately followed by regex_2. The lookahead is excluded from the match. It does not return matches of regex_2. The lookahead only asserts whether a match is possible or not.  \n",
        "\n",
        "\n",
        "\n",
        "```\n",
        "Regex_Pattern = r'o(?=oo)'\t\n",
        "\n",
        "match = re.findall(Regex_Pattern, Test_String)\n",
        "```\n",
        "\n"
      ]
    },
    {
      "cell_type": "markdown",
      "metadata": {
        "id": "ds9gpBGvKtcZ"
      },
      "source": [
        "## Negative look ahead\n",
        "regex_1(?!regex_2)  \n",
        "The negative lookahead (?!) asserts regex_1 not to be immediately followed by regex_2. Lookahead is excluded from the match (do not consume matches of regex_2), but only assert whether a match is possible or not.\n",
        "\n",
        "Task\n",
        "\n",
        "You have a test String .\n",
        "Write a regex which can match all characters which are not immediately followed by that same character.\n",
        "\n",
        "\n",
        "\n",
        "```\n",
        "Regex_Pattern = r\"(.)(?!\\1)\"\n",
        "```\n",
        "capture group anything. then neg lookahead that one char\n"
      ]
    },
    {
      "cell_type": "markdown",
      "metadata": {
        "id": "I1t81I_L-kh2"
      },
      "source": [
        "# PYTHON SECTION"
      ]
    },
    {
      "cell_type": "markdown",
      "metadata": {
        "id": "OtNGGBV18rV3"
      },
      "source": [
        "##Python If-Else\n",
        "\n",
        "Given an integer, , perform the following conditional actions:\n",
        "\n",
        "If n is odd, print Weird\n",
        "If n is even and in the inclusive range of 2 to 5, print Not Weird\n",
        "If n is even and in the inclusive range of 6 to 20 , print Weird\n",
        "If n is even and greater than 20, print Not Weird\n",
        "\n",
        "\n",
        "\n",
        "```\n",
        "if __name__ == '__main__':\n",
        "    n = int(input().strip())\n",
        "    if n % 2 == 1:\n",
        "        print('Weird')\n",
        "    elif n in range(2,5):\n",
        "        print('Not Weird')\n",
        "    elif n in range(6,21):\n",
        "        print('Weird')\n",
        "    elif n >20:\n",
        "        print('Not Weird')\n",
        "```\n",
        "\n"
      ]
    },
    {
      "cell_type": "markdown",
      "metadata": {
        "id": "WSs2j6mu-KXv"
      },
      "source": [
        "Integer Division vs. Float division\n",
        "\n",
        "\n",
        "\n",
        "```\n",
        "4//3 == 1\n",
        "4/3 = 1.3333\n",
        "```\n",
        "\n"
      ]
    },
    {
      "cell_type": "markdown",
      "metadata": {
        "id": "jmFtFIK0Y3Gn"
      },
      "source": [
        "## Loops\n",
        "\n",
        "Task\n",
        "Read an integer N . For all non-negative integers i < N , print i^2.\n",
        "\n",
        "\n",
        "\n",
        "```\n",
        "if __name__ == '__main__':\n",
        "    n = int(input())\n",
        "    i = range(0,n)\n",
        "    for x in i:\n",
        "        print(x**2)\n",
        "```\n",
        "\n"
      ]
    },
    {
      "cell_type": "markdown",
      "metadata": {
        "id": "ahoDyxTAt6oN"
      },
      "source": [
        "## Write a function\n",
        "We add a Leap Day on February 29, almost every four years. The leap day is an extra, or intercalary day and we add it to the shortest month of the year, February.\n",
        "In the Gregorian calendar three criteria must be taken into account to identify leap years:\n",
        "\n",
        "The year can be evenly divided by 4, is a leap year, unless:\n",
        "The year can be evenly divided by 100, it is NOT a leap year, unless:\n",
        "The year is also evenly divisible by 400. Then it is a leap year.\n",
        "This means that in the Gregorian calendar, the years 2000 and 2400 are leap years, while 1800, 1900, 2100, 2200, 2300 and 2500 are NOT leap years.\n",
        "\n",
        "\n",
        "\n",
        "```\n",
        "def is_leap(year):\n",
        "    leap = False\n",
        "    \n",
        "    if year % 400 ==0:\n",
        "        leap = True\n",
        "    elif year % 100 == 0:\n",
        "        leap = False\n",
        "    elif year % 4 ==0:\n",
        "        leap = True\n",
        "    return leap\n",
        "```\n",
        "Start with most restrictive and use elifs to climb back up\n"
      ]
    },
    {
      "cell_type": "markdown",
      "metadata": {
        "id": "nyFf6-1RAkxx"
      },
      "source": [
        "## set.add()\n",
        "If we want to add a single element to an existing set, we can use the .add() operation.\n",
        "It adds the element to the set and returns 'None'.\n",
        "\n",
        "\n",
        "```\n",
        "num_inputs = int(input())\n",
        "countries = set()\n",
        "for _ in range(num_inputs):\n",
        "    countries.add(input())\n",
        "print(len(countries))\n",
        "```\n",
        "\n"
      ]
    },
    {
      "cell_type": "markdown",
      "metadata": {
        "id": "K1hAhTRyMYV1"
      },
      "source": [
        "## Itertools Product\n",
        "itertools.product()\n",
        "\n",
        "This tool computes the cartesian product of input iterables.\n",
        "It is equivalent to nested for-loops.\n",
        "For example, product(A, B) returns the same as ((x,y) for x in A for y in B).\n",
        "\n",
        "Get cartesian product of AxB\n",
        "\n",
        "\n",
        "\n",
        "```\n",
        "# Enter your code here. Read input from STDIN. Print output to STDOUT\n",
        "\n",
        "A =  map(int, input().split())\n",
        "B = map(int, input().split())\n",
        "\n",
        "from itertools import product\n",
        "print(*product(A,B))\n",
        "\n",
        "```\n",
        "\n"
      ]
    },
    {
      "cell_type": "markdown",
      "metadata": {
        "id": "AxUL0nZzUSmv"
      },
      "source": [
        "## Itertools Permutations\n",
        "\n",
        "itertools.permutations(iterable[, r])\n",
        "\n",
        "This tool returns successive e length permutations of elements in an iterable.\n",
        "\n",
        "If r is not specified or r is None, then r defaults to the length of the iterable, and all possible full length permutations are generated.\n",
        "\n",
        "Permutations are printed in a lexicographic sorted order. So, if the input iterable is sorted, the permutation tuples will be produced in a sorted order.\n",
        "\n",
        "You are given a string S.\n",
        "Your task is to print all possible permutations of size K of the string in lexicographic sorted order.\n",
        "\n",
        "\n",
        "\n",
        "```\n",
        "string, perm = input().split()\n",
        "\n",
        "from itertools import permutations\n",
        "unsorted = [x for x in map(''.join, permutations(string, int(perm)))]\n",
        "unsorted.sort()\n",
        "[print(x) for x in unsorted]\n",
        "```\n",
        "\n"
      ]
    },
    {
      "cell_type": "markdown",
      "metadata": {
        "id": "-nrhvVZCR4BY"
      },
      "source": [
        "## Compare the Triplets\n",
        "\n",
        "![image.png](data:image/png;base64,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)\n",
        "\n",
        "\n",
        "\n",
        "```\n",
        "def compareTriplets(a, b):\n",
        "    a_score = 0\n",
        "    b_score = 0\n",
        "    for i in range(0,3):\n",
        "        if a[i] >b[i]:\n",
        "            a_score += 1\n",
        "        elif a[i] < b[i]:\n",
        "            b_score +=1\n",
        "        else:\n",
        "            pass\n",
        "    return (a_score, b_score)\n",
        "```\n",
        "\n"
      ]
    },
    {
      "cell_type": "markdown",
      "metadata": {
        "id": "CW8-sEQ1W56J"
      },
      "source": [
        "## Print Function\n",
        "Read an integer N.\n",
        "\n",
        "Without using any string methods, try to print the following:\n",
        "\n",
        "123\n",
        "Note that ... represents the values in between.\n",
        "\n",
        "\n",
        "```\n",
        "if __name__ == '__main__':\n",
        "    n = int(input())\n",
        "    for i in range(1,n+1):\n",
        "        print(i, end='')\n",
        "```\n",
        "\n"
      ]
    },
    {
      "cell_type": "markdown",
      "metadata": {
        "id": "S51IYpLjA3DG"
      },
      "source": [
        "## Lists\n",
        "![image.png](data:image/png;base64,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)\n",
        "\n",
        "THIS ONE IS CRAZY, REREAD FOR UNDERSTANDING AND TAKE NOTES\n",
        "```\n",
        "L = []\n",
        "for _ in range(int(input())):\n",
        "    command, *args = input().split()\n",
        "    if command == 'print':\n",
        "        print(L)\n",
        "    else:\n",
        "        getattr(L, command)(*(int(x) for x in args))\n",
        "```\n",
        "Look into getattr. but essentially, take the inputs and split them up by spaces, the first thing should be the command. We need a specific condition for print because it is a final operation type thing.\n"
      ]
    },
    {
      "cell_type": "markdown",
      "metadata": {
        "id": "G2lmxaX6W32J"
      },
      "source": [
        "##List Comprehension\n",
        "\n",
        "Let's learn about list comprehensions! You are given three integers x,y,z and  representing the dimensions of a cuboid along with an integer n. You have to print a list of all possible coordinates given by i,j,k on a 3D grid where the sum of i+j+k is not equal to n. Here, ijk are each less than xyz (and greater than 0)\n",
        "\n",
        "Input Format\n",
        "\n",
        "Four integers  and  each on four separate lines, respectively.\n",
        "\n",
        "Constraints\n",
        "\n",
        "Print the list in lexicographic increasing order.\n",
        "\n",
        "\n",
        "\n",
        "```\n",
        "if __name__ == '__main__':\n",
        "    x = int(input())\n",
        "    y = int(input())\n",
        "    z = int(input())\n",
        "    n = int(input())\n",
        "\n",
        "    print(\n",
        "    [\n",
        "    [i, j, k]\n",
        "     for i in range( x + 1) for j in range( y + 1)  for k in range(z +1)\n",
        "     if ( ( i + j + k) != n )])\n",
        "```\n",
        "\n"
      ]
    },
    {
      "cell_type": "markdown",
      "metadata": {
        "id": "l3Fli2XRO3rC"
      },
      "source": [
        "## DefaultDict\n",
        "The defaultdict tool is a container in the collections class of Python. It's similar to the usual dictionary (dict) container, but the only difference is that a defaultdict will have a default value if that key has not been set yet. If you didn't use a defaultdict you'd have to check to see if that key exists, and if it doesn't, set it to what you want.\n",
        "\n",
        "In this challenge, you will be given  integers,  and . There are  words, which might repeat, in word group . There are  words belonging to word group . For each  words, check whether the word has appeared in group  or not. Print the indices of each occurrence of  in group . If it does not appear, print -1."
      ]
    },
    {
      "cell_type": "code",
      "metadata": {
        "id": "k6YuCcu4O4_y",
        "colab": {
          "base_uri": "https://localhost:8080/"
        },
        "outputId": "a2e034bb-ca38-4de8-bbaa-8b6edc5c7770"
      },
      "source": [
        "from collections import defaultdict\n",
        "\n",
        "a, b = map(int, input().split())\n",
        "\n",
        "dfdk = defaultdict(list)\n",
        "for x in range(a):\n",
        "    dfdk[input()].append(x+1)\n",
        "    \n",
        "for y in range(b):\n",
        "    num_to_check = input()\n",
        "    if num_to_check in dfdk:\n",
        "        print(*(dfdk[num_to_check]))\n",
        "    else:\n",
        "        print(-1)"
      ],
      "execution_count": null,
      "outputs": [
        {
          "output_type": "stream",
          "text": [
            "1 2 4\n"
          ],
          "name": "stdout"
        }
      ]
    },
    {
      "cell_type": "markdown",
      "metadata": {
        "id": "KDlL8cIVd8wK"
      },
      "source": [
        "## Find the Runner up\n",
        "\n",
        "Given the participants' score sheet for your University Sports Day, you are required to find the runner-up score. You are given N scores. Store them in a list and find the score of the runner-up.\n",
        "\n",
        "Input Format\n",
        "\n",
        "The first line contains N . The second line contains an array A[]  of N integers each separated by a space.\n",
        "\n",
        "Constraints\n",
        "2< n  < 10\n",
        "-100 < A[i] < 100\n",
        "\n",
        "Output Format:\n",
        "Print the runner-up score.\n",
        "\n",
        "\n",
        "\n",
        "```\n",
        "if __name__ == '__main__':\n",
        "    n = int(input())\n",
        "    arr = map(int, input().split())\n",
        "\n",
        "    # must make it set to get rid of duplicates\n",
        "    arr = set(arr)\n",
        "\n",
        "    # list comprehension, make a list of non max numbers. then take a list of that\n",
        "    print(max([x for x in arr if x < max(arr)]))\n",
        "```\n",
        "take the input as an input, and next input as a mapped list, make it a set to get rid of dupes, then list comprehension  to list the non max numbers, and take a max of that list\n"
      ]
    },
    {
      "cell_type": "markdown",
      "metadata": {
        "id": "V4BAR5x5LTXT"
      },
      "source": [
        "## Captain's Room\n",
        "Mr. Anant Asankhya is the manager at the INFINITE hotel. The hotel has an infinite amount of rooms.\n",
        "\n",
        "One fine day, a finite number of K tourists come to stay at the hotel.\n",
        "The tourists consist of:\n",
        "→ A Captain.\n",
        "→ An unknown group of families consisting of K members per group where K ≠ 1.\n",
        "\n",
        "The Captain was given a separate room, and the rest were given one room per group.\n",
        "\n",
        "Mr. Anant has an unordered list of randomly arranged room entries. The list consists of the room numbers for all of the tourists. The room numbers will appear K times per group except for the Captain's room.\n",
        "\n",
        "Mr. Anant needs you to help him find the Captain's room number.\n",
        "The total number of tourists or the total number of groups of families is not known to you.\n",
        "You only know the value of  and the room number list.\n",
        "\n",
        "Input Format\n",
        "\n",
        "The first line consists of an integer, K, the size of each group.\n",
        "The second line contains the unordered elements of the room number list.\n",
        "\n",
        "\n",
        "\n",
        "```\n",
        "k,arr = int(input()),list(map(int, input().split()))\n",
        "\n",
        "myset = set(arr)\n",
        "\n",
        "print(((sum(myset)*k)-(sum(arr)))//(k-1))\n",
        "```\n",
        "Here we make the list a set so that there are nor duplicates. Take the difference of (sum of the set *k) and (sum of original array)\n",
        "and divide by the number of non captain tourists.\n",
        "\n",
        "that just leaves the captain's room\n"
      ]
    },
    {
      "cell_type": "markdown",
      "metadata": {
        "id": "0rIfufYBPIQj"
      },
      "source": [
        "## Collections.OrderedDict()\n",
        "\n",
        "An OrderedDict is a dictionary that remembers the order of the keys that were inserted first. If a new entry overwrites an existing entry, the original insertion position is left unchanged.\n",
        "\n",
        "Example\n",
        "\n",
        "Code\n",
        "\n",
        ">>> from collections import OrderedDict\n",
        ">>> \n",
        ">>> ordinary_dictionary = {}\n",
        ">>> ordinary_dictionary['a'] = 1\n",
        ">>> ordinary_dictionary['b'] = 2\n",
        ">>> ordinary_dictionary['c'] = 3\n",
        ">>> ordinary_dictionary['d'] = 4\n",
        ">>> ordinary_dictionary['e'] = 5\n",
        ">>> \n",
        ">>> print ordinary_dictionary\n",
        "{'a': 1, 'c': 3, 'b': 2, 'e': 5, 'd': 4}\n",
        ">>> \n",
        ">>> ordered_dictionary = OrderedDict()\n",
        ">>> ordered_dictionary['a'] = 1\n",
        ">>> ordered_dictionary['b'] = 2\n",
        ">>> ordered_dictionary['c'] = 3\n",
        ">>> ordered_dictionary['d'] = 4\n",
        ">>> ordered_dictionary['e'] = 5\n",
        ">>> \n",
        ">>> print ordered_dictionary\n",
        "OrderedDict([('a', 1), ('b', 2), ('c', 3), ('d', 4), ('e', 5)])\n",
        "Task\n",
        "\n",
        "You are the manager of a supermarket.\n",
        "You have a list of N items together with their prices that consumers bought on a particular day.\n",
        "Your task is to print each item_name and net_price in order of its first occurrence.\n",
        "\n",
        "item_name = Name of the item.\n",
        "net_price = Quantity of the item sold multiplied by the price of each item.\n",
        "\n",
        "Input Format\n",
        "\n",
        "The first line contains the number of items,N .\n",
        "The next N lines contains the item's name and price, separated by a space.\n",
        "\n",
        "Constraints\n",
        "0-100\n",
        "\n",
        "Output Format\n",
        "\n",
        "Print the item_name and net_price in order of its first occurrence.\n",
        "\n",
        "Sample Input\n",
        "\n",
        "9\n",
        "BANANA FRIES 12\n",
        "POTATO CHIPS 30\n",
        "APPLE JUICE 10\n",
        "CANDY 5\n",
        "APPLE JUICE 10\n",
        "CANDY 5\n",
        "CANDY 5\n",
        "CANDY 5\n",
        "POTATO CHIPS 30\n",
        "Sample Output\n",
        "\n",
        "BANANA FRIES 12\n",
        "POTATO CHIPS 60\n",
        "APPLE JUICE 20\n",
        "CANDY 20\n",
        "\n",
        "\n",
        "\n",
        "```\n",
        "from collections import OrderedDict\n",
        "# make an ordered dict to store everything\n",
        "dictionary = OrderedDict()\n",
        "\n",
        "# The first input is the range items\n",
        "list_len = int(input())\n",
        "\n",
        "# iterate through the list\n",
        "for item_space_price in range(list_len):\n",
        "    # separate by the rightmost space\n",
        "    item_name, _, price = input().rpartition(\" \")\n",
        "    \n",
        "    # need to instantiate object in dictionary\n",
        "    if item_name not in dictionary:\n",
        "        dictionary[item_name] = 0\n",
        "    dictionary[item_name] += int(price)\n",
        "\n",
        "# print items side by side    \n",
        "for x in dictionary.items():\n",
        "    print(x[0],x[1])\n",
        "\n",
        "```\n",
        "Make an ordered dict, rpartition splits into three things at the rightmost string specified, lookup dictionary if not there then 0 and add price, loop to print\n"
      ]
    },
    {
      "cell_type": "markdown",
      "metadata": {
        "id": "aGO4Z1_aS6oB"
      },
      "source": [
        "## Tuples\n",
        "Task\n",
        "Given an integer, n, and n space-separated integers as input, create a tuple, t, of those n integers. Then compute and print the result of hash().\n",
        "\n",
        "Note: hash() is one of the functions in the __builtins__ module, so it need not be imported.\n",
        "\n",
        "\n",
        "\n",
        "```\n",
        "    n = int(input())\n",
        "    integer_list = map(int, input().split())\n",
        "    print(hash(tuple(integer_list)))\n",
        "```\n",
        "\n"
      ]
    },
    {
      "cell_type": "markdown",
      "metadata": {
        "id": "0JiaigNpOVnw"
      },
      "source": [
        "## collections.NamedTuple\n",
        "Basically, namedtuples are easy to create, lightweight object types.\n",
        "They turn tuples into convenient containers for simple tasks.\n",
        "With namedtuples, you don’t have to use integer indices for accessing members of a tuple.\n",
        "Task\n",
        "\n",
        "Dr. John Wesley has a spreadsheet containing a list of student's , ,  and .\n",
        "\n",
        "Your task is to help Dr. Wesley calculate the average marks of the students.\n",
        "\n",
        "\n",
        "Note:\n",
        "1. Columns can be in any order. IDs, marks, class and name can be written in any order in the spreadsheet.\n",
        "2. Column names are ID, MARKS, CLASS and NAME. (The spelling and case type of these names won't change.)"
      ]
    },
    {
      "cell_type": "code",
      "metadata": {
        "id": "TqadODOYOYOf",
        "colab": {
          "base_uri": "https://localhost:8080/",
          "height": 35
        },
        "outputId": "286bac00-4bde-46b1-fce5-d2365b670ab7"
      },
      "source": [
        "from collections import namedtuple\n",
        "\n",
        "total_students = int(input())\n",
        "Student = namedtuple(\"Student\", input())\n",
        "marks_sum = 0\n",
        "for _ in range(total_students):\n",
        "    student = Student(*input().split())\n",
        "    marks_sum += int(student.MARKS)\n",
        "print(round(marks_sum/total_students,2))\n",
        "\n",
        "# honestly might just be easier to make a class.\n",
        "# Use this if you want IMMUTABLE ordered lightweight objects"
      ],
      "execution_count": null,
      "outputs": [
        {
          "output_type": "execute_result",
          "data": {
            "application/vnd.google.colaboratory.intrinsic+json": {
              "type": "string"
            },
            "text/plain": [
              "'ID'"
            ]
          },
          "metadata": {
            "tags": []
          },
          "execution_count": 2
        }
      ]
    },
    {
      "cell_type": "markdown",
      "metadata": {
        "id": "PjgYUSxXTJj_"
      },
      "source": [
        "## Nested Lists\n",
        "\n",
        "Given the names and grades for each student in a Physics class of N students, store them in a nested list and print the name(s) of any student(s) having the second lowest grade.\n",
        "\n",
        "Note: If there are multiple students with the same grade, order their names alphabetically and print each name on a new line.\n",
        "\n",
        "*Input Format*\n",
        "\n",
        "The first line contains an integer, , the number of students.\n",
        "The  subsequent lines describe each student over  lines; the first line contains a student's name, and the second line contains their grade.\n",
        "\n",
        "Constraints\n",
        "N between 2 and 5\n",
        "There will always be one or more students having the second lowest grade.\n",
        "\n",
        "*Output Format*\n",
        "\n",
        "Print the name(s) of any student(s) having the second lowest grade in Physics; if there are multiple students, order their names alphabetically and print each one on a new line.\n",
        "\n",
        "\n",
        "\n",
        "```\n",
        "if __name__ == '__main__':\n",
        "    scores = []\n",
        "    names = []\n",
        "    for _ in range(int(input())):\n",
        "        name = input()\n",
        "        score = float(input())\n",
        "        scores.append(score)\n",
        "        names.append(name)\n",
        "\n",
        "    second_lowest = min([x for x in scores if x != min(scores)])\n",
        "    second_scores_index = [i for i,e in enumerate(scores) if e==second_lowest]\n",
        "    \n",
        "    names_of_interest = [names[index] for index in second_scores_index]\n",
        "\n",
        "    names_of_interest.sort()\n",
        "    for answer in names_of_interest:\n",
        "        print(answer)\n",
        "```\n",
        "good job"
      ]
    },
    {
      "cell_type": "markdown",
      "metadata": {
        "id": "W5YSsIzygPkc"
      },
      "source": [
        "## Finding the percentage\n",
        "\n",
        "You have a record of N students. Each record contains the student's name, and their percent marks in Maths, Physics and Chemistry. The marks can be floating values. The user enters some integer N followed by the names and marks for  students. You are required to save the record in a dictionary data type. The user then enters a student's name. Output the average percentage marks obtained by that student, correct to two decimal places.\n",
        "\n",
        "Input Format\n",
        "\n",
        "The first line contains the integer N, the number of students. The next  lines contains the name and marks obtained by that student separated by a space. The final line contains the name of a particular student previously listed.\n",
        "\n",
        "\n",
        "Output Format\n",
        "\n",
        "Print one line: The average of the marks obtained by the particular student correct to 2 decimal places.\n",
        "\n",
        "\n",
        "\n",
        "```\n",
        "if __name__ == '__main__':\n",
        "    n = int(input())\n",
        "    student_marks = {}\n",
        "    for _ in range(n):\n",
        "        name, *line = input().split()\n",
        "        scores = list(map(float, line))\n",
        "        student_marks[name] = scores\n",
        "    query_name = input()\n",
        "    print(\"{:.2f}\".format(sum(student_marks[query_name])/3))\n",
        "        \n",
        "```\n",
        "First input is the number of students\n",
        "\n",
        "next input is split into name and the scores as *line, these need to be made into a float.\n",
        "\n",
        "Last input is the name of interest.\n",
        "\n",
        "Here we just use a simple sum and divide by the 3 grades. F string to get the decimal formatting\n"
      ]
    },
    {
      "cell_type": "markdown",
      "metadata": {
        "id": "bCUVzts-alzX"
      },
      "source": [
        "## sWAP cASE\n",
        "\n",
        "You are given a string and your task is to swap cases. In other words, convert all lowercase letters to uppercase letters and vice versa.\n",
        "\n",
        "For Example:\n",
        "\n",
        "Www.HackerRank.com → wWW.hACKERrANK.COM\n",
        "Pythonist 2 → pYTHONIST 2\n",
        "Input Format\n",
        "\n",
        "A single line containing a string\n",
        "\n",
        "\n",
        "\n",
        "```\n",
        "def swap_case(s):\n",
        "    splt = list(s)\n",
        "    final = []\n",
        "    for x in splt:\n",
        "        if x.isupper():\n",
        "            final.append(x.lower())\n",
        "        elif x.islower():\n",
        "            final.append(x.upper())\n",
        "        else:\n",
        "            final.append(x)\n",
        "    return ''.join(final)\n",
        "```\n",
        "or....\n",
        "\n",
        "\n",
        "```\n",
        "def swap_case(s):   \n",
        "    return s.swapcase()\n",
        "```\n",
        "\n",
        "\n"
      ]
    },
    {
      "cell_type": "markdown",
      "metadata": {
        "id": "kSYND1-pbuLo"
      },
      "source": [
        "## String Split and Join\n",
        "Task\n",
        "You are given a string. Split the string on a \" \" (space) delimiter and join using a - hyphen.\n",
        "\n",
        "\n",
        "```\n",
        "def split_and_join(line):\n",
        "    return '-'.join(line.split())\n",
        "```\n",
        "\n"
      ]
    },
    {
      "cell_type": "markdown",
      "metadata": {
        "id": "Rh0w34gKcLs9"
      },
      "source": [
        "## Your name\n",
        "You are given the firstname and lastname of a person on two different lines. Your task is to read them and print the following:\n",
        "\n",
        "Hello firstname lastname! You just delved into python.\n",
        "\n",
        "\n",
        "\n",
        "```\n",
        "def print_full_name(a, b):\n",
        "    print(f\"Hello {a} {b}! You just delved into python.\")\n",
        "```\n",
        "\n"
      ]
    },
    {
      "cell_type": "markdown",
      "metadata": {
        "id": "7J51kAPgckk2"
      },
      "source": [
        "## Mutations\n",
        "\n",
        "We have seen that lists are mutable (they can be changed), and tuples are immutable (they cannot be changed).\n",
        "\n",
        "Let's try to understand this with an example.\n",
        "\n",
        "You are given an immutable string, and you want to make changes to it.  \n",
        "Task  \n",
        "Read a given string, change the character at a given index and then print the modified string.\n",
        "\n",
        "\n",
        "\n",
        "```\n",
        "def mutate_string(string, position, character):\n",
        "    rejoined = string[:position] + character + string[position+1:]\n",
        "    return rejoined\n",
        "```\n",
        "\n"
      ]
    },
    {
      "cell_type": "markdown",
      "metadata": {
        "id": "TJC2D93GduOH"
      },
      "source": [
        "## Find a string\n",
        "In this challenge, the user enters a string and a substring. You have to print the number of times that the substring occurs in the given string. String traversal will take place from left to right, not from right to left.\n",
        "\n",
        "NOTE: String letters are case-sensitive.\n",
        "\n",
        "Input Format\n",
        "\n",
        "The first line of input contains the original string. The next line contains the substring.\n",
        "\n",
        "\n",
        "\n",
        "```\n",
        "def count_substring(string, sub_string):\n",
        "    counter = 0\n",
        "    for i in range(len(string)):\n",
        "        if string[i:].startswith(sub_string):\n",
        "            counter += 1\n",
        "    return counter\n",
        "\n",
        "```\n",
        "\n"
      ]
    },
    {
      "cell_type": "markdown",
      "metadata": {
        "id": "Yv3z8OpEtoJM"
      },
      "source": [
        "## String Validators\n",
        "Task\n",
        "\n",
        "You are given a string S.\n",
        "Your task is to find out if the string S contains: alphanumeric characters, alphabetical characters, digits, lowercase and uppercase characters.\n",
        "\n",
        "\n",
        "\n",
        "```\n",
        "if __name__ == '__main__':\n",
        "    str = input()\n",
        "    \n",
        "    print any(c.isalnum()  for c in str)\n",
        "    print any(c.isalpha() for c in str)\n",
        "    print any(c.isdigit() for c in str)\n",
        "    print any(c.islower() for c in str)\n",
        "    print any(c.isupper() for c in str)\n",
        "```\n",
        "\n",
        "Any only works on iterables. Is this tuple comprehension? Look into eval\n",
        "\n",
        "```\n",
        "for test in ('isalnum', 'isalpha', 'isdigit', 'islower', 'isupper'):\n",
        "        any(eval(\"c.\" + test + \"()\") for c in s)\n",
        "```\n",
        "\n",
        "or \n",
        "\n",
        "\n",
        "```\n",
        "for method in [str.isalnum, str.isalpha, str.isdigit, str.islower, str.isupper]:\n",
        "    print any(method(c) for c in s)\n",
        "```\n",
        "\n",
        "\n"
      ]
    },
    {
      "cell_type": "markdown",
      "metadata": {
        "id": "cPm2c21Npkoi"
      },
      "source": [
        "## Textwrap\n",
        "You are given a string s and width w.\n",
        "Your task is to wrap the string into a paragraph of width w.  \n",
        "\n",
        "Sample Input 0\n",
        "```\n",
        "ABCDEFGHIJKLIMNOQRSTUVWXYZ\n",
        "4\n",
        "```\n",
        "\n",
        "Sample Output 0 \n",
        "```\n",
        "ABCD\n",
        "EFGH\n",
        "IJKL\n",
        "IMNO\n",
        "QRST\n",
        "UVWX\n",
        "YZ\n",
        "```\n",
        "\n",
        "solution: \n",
        "```\n",
        "def wrap(string, max_width):\n",
        "    return \"\\n\".join([string[i: i + max_width] for i in range(0, len(string), max_width)])\n",
        "\n",
        "if __name__ == '__main__':\n",
        "    string, max_width = input(), int(input())\n",
        "    result = wrap(string, max_width)\n",
        "    print(result)\n",
        "```\n",
        "Separate the items of a list by a new line. Pieces are from i to i + max_width. Iterate from the start to the end by max_width"
      ]
    },
    {
      "cell_type": "markdown",
      "metadata": {
        "id": "9Yp2tAJgAAdU"
      },
      "source": [
        "## Map and Lambda\n",
        "\n",
        "You have to generate a list of the first N fibonacci numbers, 0 being the first number. Then, apply the map function and a lambda expression to cube each fibonacci number and print the list.\n",
        "\n",
        "```\n",
        "cube = lambda x: x**3\n",
        "\n",
        "def fibonacci(n):\n",
        "    n1 = 0\n",
        "    n2 = 1\n",
        "    count = 2\n",
        "    first = [0, 1]\n",
        "    if n == 1:\n",
        "        return [0]\n",
        "    if n == 2:\n",
        "        return [0, 1]\n",
        "    if n == 0:\n",
        "        return []\n",
        "    while count < n:\n",
        "        nth = n1 + n2\n",
        "        first.append(nth)\n",
        "        n1 = n2\n",
        "        n2 = nth\n",
        "        count += 1\n",
        "    return first \n",
        "```\n",
        "\n"
      ]
    },
    {
      "cell_type": "markdown",
      "metadata": {
        "id": "_GkrtVUaQcTF"
      },
      "source": [
        "## Capitalize\n",
        "\n",
        "You are asked to ensure that the first and last names of people begin with a capital letter in their passports. For example, alison heck should be capitalised correctly as Alison Heck.\n",
        "\n",
        "\n",
        "\n",
        "\n",
        "\n",
        "```\n",
        "def solve(s):\n",
        "    a_string = s.split(' ')\n",
        "    return (' '.join((word.capitalize() for word in a_string)))\n",
        "```\n",
        "string is immutable, so a .replace() in a loop would create copies. Using lists is best\n"
      ]
    },
    {
      "cell_type": "markdown",
      "metadata": {
        "id": "SYdJTKw9PCfL"
      },
      "source": [
        "## Incorrect Regex\n",
        "You are given a string S.\n",
        "Your task is to find out whether S is a valid regex or not."
      ]
    },
    {
      "cell_type": "code",
      "metadata": {
        "id": "6NsRCi2bPIK7"
      },
      "source": [
        "import re\n",
        "num_strings = int(input())\n",
        "for _ in range(num_strings):\n",
        "    try:\n",
        "        print(bool(re.compile(input())))\n",
        "    except re.error:\n",
        "        print(False)\n",
        "\n",
        "### put the string directly into regex compiler and test it, re.error for except"
      ],
      "execution_count": null,
      "outputs": []
    },
    {
      "cell_type": "markdown",
      "metadata": {
        "id": "OACcyuQgkyY2"
      },
      "source": [
        "## Collections.deque\n",
        "\n",
        "collections.deque()  \n",
        "A deque is a double-ended queue. It can be used to add or remove elements from both ends.\n",
        "\n",
        "Task\n",
        "\n",
        "Perform append, pop, popleft and appendleft methods on an empty deque.\n",
        "\n",
        "\n",
        "```\n",
        "from collections import deque\n",
        "\n",
        "dq = deque()\n",
        "num_ops = int(input())\n",
        "for x in range(num_ops):\n",
        "    instructions = input().split()\n",
        "    if len(instructions) == 1:\n",
        "        eval(\"dq.\" + instructions[0] + \"()\")\n",
        "    else:    \n",
        "        eval(\"dq.\" + instructions[0]+ \"(\" + instructions[1] +\")\")\n",
        "print(*dq)\n",
        "\n",
        "```\n",
        "We take the inputs as strings, and compose each part of the command for `eval`\n"
      ]
    },
    {
      "cell_type": "markdown",
      "metadata": {
        "id": "WbEyj1hmgd1n"
      },
      "source": [
        "## Word Order\n",
        "You are given  words. Some words may repeat. For each word, output its number of occurrences. The output order should correspond with the input order of appearance of the word. See the sample input/output for clarification.\n",
        "\n",
        "Note: Each input line ends with a \"\\n\" character."
      ]
    },
    {
      "cell_type": "code",
      "metadata": {
        "id": "6pI09fY8gjCv"
      },
      "source": [
        "num_words = int(input())\n",
        "\n",
        "dictionary = {}\n",
        "for _ in range(num_words):\n",
        "    word = input()\n",
        "    if word in dictionary:\n",
        "        dictionary[word] += 1\n",
        "    else:\n",
        "        dictionary[word] = 1\n",
        "\n",
        "print(len(dictionary.values()))\n",
        "print(\" \".join([str(x) for x in dictionary.values()]))\n",
        "\n",
        "# It has to be printed out as entered. Here I am relying on python 3.7 dictionary\n",
        "# already being ordered.\n",
        "\n",
        "# More elegant solution\n",
        "from collections import Counter, OrderedDict\n",
        "class OrderedCounter(Counter, OrderedDict):\n",
        "    pass\n",
        "d = OrderedCounter(input() for _ in range(int(input())))\n",
        "print(len(d))\n",
        "print(*d.values())\n",
        "\n",
        "# here create a class with Counter and OrderedDict attributes.\n",
        "# Input 0 - n times. Can use len and unzip with * for the values\n",
        "# collections.Counter()\n",
        "# A counter is a container that stores elements as dictionary keys, and their counts are stored as dictionary values."
      ],
      "execution_count": null,
      "outputs": []
    },
    {
      "cell_type": "markdown",
      "metadata": {
        "id": "byvxWzSGfs78"
      },
      "source": [
        "## Piling Up!\n",
        "\n",
        "Bunch of cubes, stackable if smaller than or equal to the previous cube. \n",
        "\n",
        "Print Yes if whole list of cubes is stackable, else No\n",
        "\n",
        "The first line contains a single integer , the number of test cases.  \n",
        "For each test case, there are 2 lines.\n",
        "The first line of each test case contains X, the number of cubes.  \n",
        "\n",
        "The second line contains X space separated integers, denoting the sideLengths of each cube in that order.\n",
        "\n",
        "\n",
        "```\n",
        "# I think this is a binary tree problem, we need to compare left and right\n",
        "# Oh this is actually about collections so we just learned about deque left and right\n",
        "from collections import deque\n",
        "\n",
        "num_cases = int(input())\n",
        "# first try and arrange a loop to cover the lines of inputs\n",
        "for total_loop in range(num_cases):\n",
        "    cube_len = input()\n",
        "    dq = deque(map(int, input().split()))\n",
        "    stackable = True\n",
        "\n",
        "    # loop through and compare the dq\n",
        "    # we know for it to work it must all be sorted inward\n",
        "    for _ in range(len(dq) - 1):\n",
        "        if dq[0] >= dq[1]:\n",
        "            dq.popleft()\n",
        "        elif dq[-1] >= dq [-2]:\n",
        "            dq.pop()\n",
        "        else:\n",
        "            stackable = False\n",
        "            print(\"No\")\n",
        "            break\n",
        "    if stackable:\n",
        "        print(\"Yes\")\n",
        "\n",
        "```\n",
        "I was close, didn't quite make it on my own. Problem was related to input length as well as not seeing the problem as two sorted lists\n",
        "\n",
        "Spend more time drawing up examples and understanding the problem\n"
      ]
    },
    {
      "cell_type": "markdown",
      "metadata": {
        "id": "BLchstsHif_j"
      },
      "source": [
        "## Company Logo\n",
        "Collections.  Input string, print char and char_count on a line.\n",
        " If same count, alphabetize\n",
        "\n",
        "\n",
        "\n",
        "```\n",
        "from collections import Counter\n",
        "\n",
        "char_list = sorted(list(input()))\n",
        "\n",
        "top_chars = Counter(char_list).most_common(3)\n",
        "counts = []\n",
        "chars = []\n",
        "for char, count in top_chars:\n",
        "    chars.append(char)\n",
        "    counts.append(count)\n",
        "\n",
        "for char, count in zip(chars, counts):\n",
        "    print(char, count)\n",
        "```\n",
        "Better solution:\n",
        "\n",
        "\n",
        "\n",
        "```\n",
        "from collections import Counter\n",
        "[print(*c) for c in Counter(sorted(input())).most_common(3)]\n",
        "```\n",
        "\n",
        "\n"
      ]
    },
    {
      "cell_type": "markdown",
      "metadata": {
        "id": "8OEYwSAzr8CN"
      },
      "source": [
        "## Compress the String!\n",
        "In this task, we would like for you to appreciate the usefulness of the groupby() function of itertools . To read more about this function, Check this out .\n",
        "\n",
        "You are given a string S. Suppose a character 'c' occurs consecutively X times in the string. Replace these consecutive occurrences of the character 'c' with (X, c)  in the string.\n",
        "\n",
        "For a better understanding of the problem, check the explanation."
      ]
    },
    {
      "cell_type": "code",
      "metadata": {
        "id": "WlaHPFTTsO_N"
      },
      "source": [
        "import itertools\n",
        "\n",
        "string = '1222311'\n",
        "iterables = [list(g) for key, g in itertools.groupby(string)]\n",
        "\n",
        "formatted = []\n",
        "for item in iterables:\n",
        "  formatted.append(f'({len(item)}, {item[0]})')\n",
        "\n",
        "print(\" \".join(formatted))"
      ],
      "execution_count": null,
      "outputs": []
    },
    {
      "cell_type": "markdown",
      "metadata": {
        "id": "0KZixKpjCvcd"
      },
      "source": [
        "## itertools.combinations()\n",
        "itertools.combinations(iterable, r)\n",
        "This tool returns the `r` length subsequences of elements from the input iterable.\n",
        "\n",
        "Combinations are emitted in lexicographic sorted order. So, if the input iterable is sorted, the combination tuples will be produced in sorted order."
      ]
    },
    {
      "cell_type": "code",
      "metadata": {
        "id": "mZjT0dC5C16p"
      },
      "source": [
        "from itertools import combinations\n",
        "string, k = input().split()\n",
        "\n",
        "for i in range(1, int(k)+1): # Outside loop up to all length values\n",
        "    for j in combinations(sorted(string), i): # at each length find the combos\n",
        "        print(\"\".join(j)) # join the combos into one printable str\n"
      ],
      "execution_count": null,
      "outputs": []
    },
    {
      "cell_type": "markdown",
      "metadata": {
        "id": "sg6Bf5oELnM7"
      },
      "source": [
        "## itertools.combinations_with_replacement\n",
        "\n",
        "itertools.combinations_with_replacement(iterable, r)\n",
        "This tool returns  length subsequences of elements from the input iterable allowing individual elements to be repeated more than once.\n",
        "\n",
        "Combinations are emitted in lexicographic sorted order. So, if the input iterable is sorted, the combination tuples will be produced in sorted order."
      ]
    },
    {
      "cell_type": "code",
      "metadata": {
        "id": "oS1c-DRMLriM"
      },
      "source": [
        "from itertools import combinations_with_replacement\n",
        "\n",
        "string, k = input().split()\n",
        "\n",
        "for combo in combinations_with_replacement(sorted(string), int(k)):\n",
        "    print(\"\".join(combo))"
      ],
      "execution_count": null,
      "outputs": []
    },
    {
      "cell_type": "markdown",
      "metadata": {
        "id": "ZOQVR-59ZCGK"
      },
      "source": [
        "## Iterables and Iterators\n",
        "\n",
        "You are given a list of N lowercase English letters. For a given integer K, you can select any K indices (assume 1-based indexing) with a uniform probability from the list.\n",
        "\n",
        "Find the probability that at least one of the  indices selected will contain the letter: 'a'.\n",
        "\n"
      ]
    },
    {
      "cell_type": "code",
      "metadata": {
        "id": "t2OcAmA9ZuOo"
      },
      "source": [
        "from itertools import combinations\n",
        "num_letters = int(input())\n",
        "letters = input().split()\n",
        "num_selected = int(input())\n",
        "\n",
        "\n",
        "a_counter = 0\n",
        "num_comb = 0\n",
        "for combination in combinations(letters, num_selected):\n",
        "    num_comb += 1 # keep track of how many combos\n",
        "    if \"a\" in combination:\n",
        "        a_counter += 1 # keep track of how many have \"a\"\n",
        "print(a_counter/num_comb)\n",
        "\n",
        "## A more elegant solution would be:\n",
        "t = list(combinations(s,n))\n",
        "f = [i for i in t if 'a' in i]\n",
        "print(len(f)/len(t))"
      ],
      "execution_count": null,
      "outputs": []
    },
    {
      "cell_type": "markdown",
      "metadata": {
        "id": "6fKbI23DNBy_"
      },
      "source": [
        "## No Idea!\n",
        "here is an array of  integers. There are also  disjoint sets,  and , each containing  integers. You like all the integers in set  and dislike all the integers in set . Your initial happiness is . For each  integer in the array, if , you add  to your happiness. If , you add  to your happiness. Otherwise, your happiness does not change. Output your final happiness at the end.\n",
        "\n",
        "Note: Since  and  are sets, they have no repeated elements. However, the array might contain duplicate elements."
      ]
    },
    {
      "cell_type": "code",
      "metadata": {
        "id": "e-YYlzHANGhn"
      },
      "source": [
        "len_array, len_sets = map(int, input().split())\n",
        "\n",
        "array = map(int, input().split())\n",
        "A = set(map(int, input().split()))\n",
        "B = set(map(int, input().split()))\n",
        "\n",
        "counter = 0\n",
        "for num in array:\n",
        "    if num in A:\n",
        "        counter += 1\n",
        "    if num in B:\n",
        "        counter += -1\n",
        "print(counter)\n",
        "\n",
        "## Could be optimized with\n",
        "_ = input()\n",
        "array = input().split()\n",
        "like = set(input().split())\n",
        "dislike = set(input().split())\n",
        "print(sum((i in like) - (i in dislike) for i in array))"
      ],
      "execution_count": null,
      "outputs": []
    },
    {
      "cell_type": "markdown",
      "metadata": {
        "id": "-kRQIBgnkfWE"
      },
      "source": [
        "## Minion Game\n",
        "Kevin and Stuart want to play the 'The Minion Game'.\n",
        "\n",
        "Game Rules\n",
        "\n",
        "Both players are given the same string, .\n",
        "Both players have to make substrings using the letters of the string .\n",
        "Stuart has to make words starting with consonants.\n",
        "Kevin has to make words starting with vowels.\n",
        "The game ends when both players have made all possible substrings.\n",
        "\n",
        "Scoring\n",
        "A player gets +1 point for each occurrence of the substring in the string .\n",
        "\n",
        "For Example:\n",
        "String  = BANANA\n",
        "Kevin's vowel beginning word = ANA\n",
        "Here, ANA occurs twice in BANANA. Hence, Kevin will get 2 Points.\n"
      ]
    },
    {
      "cell_type": "code",
      "metadata": {
        "id": "L_KPnugzkoXl"
      },
      "source": [
        "# import re\n",
        "# string = 'banana'\n",
        "# for x in range(5):\n",
        "#   pattern = re.escape(f'[^aeiou]\\w\\{{x}}')\n",
        "#   print(re.findall(pattern, string))\n",
        "\n",
        "    # Instead the solution is to loop though and if the index is in vowels or not\n",
        "    # add the str_len - index to the score. There are that many words to the end\n",
        "    vowels = 'AEIOU' # the 'aeiou' doesn't work apparently\n",
        "    stuart = 0\n",
        "    kevin = 0\n",
        "\n",
        "    for x in range(str_ln):\n",
        "        if string[x] in vowels:\n",
        "            kevin += (str_ln - x)\n",
        "        else:\n",
        "            stuart += (str_ln - x)\n",
        "    \n",
        "    if kevin > stuart:\n",
        "        print(\"Kevin\", kevin)\n",
        "    elif stuart > kevin:\n",
        "        print(\"Stuart\", stuart)\n",
        "    else:\n",
        "        print(\"Draw\")\n"
      ],
      "execution_count": null,
      "outputs": []
    },
    {
      "cell_type": "markdown",
      "metadata": {
        "id": "T639eVejPBUR"
      },
      "source": [
        "## Merge the Tools\n",
        "Consider the following:\n",
        "\n",
        "A string, , of length  where .\n",
        "An integer, , where  is a factor of .\n",
        "We can split  into  subsegments where each subsegment, , consists of a contiguous block of  characters in . Then, use each  to create string  such that:\n",
        "\n",
        "The characters in  are a subsequence of the characters in .\n",
        "Any repeat occurrence of a character is removed from the string such that each character in  occurs exactly once. In other words, if the character at some index  in  occurs at a previous index  in , then do not include the character in string .\n",
        "Given  and , print  lines where each line  denotes string ."
      ]
    },
    {
      "cell_type": "code",
      "metadata": {
        "id": "16Qv3o8WP79I"
      },
      "source": [
        "def merge_the_tools(string, k):\n",
        "    # your code goes here\n",
        "    n = len(string)\n",
        "    t_substring_ln = int(n/k)\n",
        "    \n",
        "    #list of t chunks\n",
        "    t_subs = [string[i:i+k] for i in range(0, n, k)]\n",
        "    \n",
        "    for t in t_subs:\n",
        "        visited = set()\n",
        "        returned_word = \"\" \n",
        "\n",
        "        for letter in t:\n",
        "            \n",
        "            if letter not in visited:\n",
        "                returned_word += letter\n",
        "            \n",
        "            visited.add(letter)\n",
        "\n",
        "        print(returned_word)"
      ],
      "execution_count": null,
      "outputs": []
    },
    {
      "cell_type": "markdown",
      "metadata": {
        "id": "Zi_2_af8ey2w"
      },
      "source": [
        "## Athlete Sort\n",
        "You are given a spreadsheet that contains a list of  athletes and their details (such as age, height, weight and so on). You are required to sort the data based on the th attribute and print the final resulting table. Follow the example given below for better understanding.\n",
        "\n",
        "image\n",
        "\n",
        "Note that  is indexed from  to , where  is the number of attributes.\n",
        "\n",
        "Note: If two attributes are the same for different rows, for example, if two atheletes are of the same age, print the row that appeared first in the input."
      ]
    },
    {
      "cell_type": "code",
      "metadata": {
        "id": "qiqT2v5he3jn"
      },
      "source": [
        "if __name__ == '__main__':\n",
        "    nm = input().split()\n",
        "\n",
        "    n = int(nm[0])\n",
        "\n",
        "    m = int(nm[1])\n",
        "\n",
        "    arr = []\n",
        "\n",
        "    for _ in range(n):\n",
        "        arr.append(list(map(int, input().rstrip().split())))\n",
        "\n",
        "    k = int(input())\n",
        "\n",
        "    sorted_arr = sorted(arr, key=lambda l: l[k])\n",
        "    for x in sorted_arr:\n",
        "        print(\" \".join(map(str, x)))\n"
      ],
      "execution_count": null,
      "outputs": []
    },
    {
      "cell_type": "markdown",
      "metadata": {
        "id": "NxWSVzKdglGg"
      },
      "source": [
        "## Time Delta\n",
        "When users post an update on social media,such as a URL, image, status update etc., other users in their network are able to view this new post on their news feed. Users can also see exactly when the post was published, i.e, how many hours, minutes or seconds ago.\n",
        "\n",
        "Since sometimes posts are published and viewed in different time zones, this can be confusing. You are given two timestamps of one such post that a user can see on his newsfeed in the following format:\n",
        "\n",
        "Day dd Mon yyyy hh:mm:ss +xxxx\n",
        "\n",
        "Here +xxxx represents the time zone. Your task is to print the absolute difference (in seconds) between them."
      ]
    },
    {
      "cell_type": "code",
      "metadata": {
        "id": "Y9kDAecMd017",
        "colab": {
          "base_uri": "https://localhost:8080/",
          "height": 34
        },
        "outputId": "a93b2f9d-c0f6-44f9-fdd4-d5e6c22cd86a"
      },
      "source": [
        "import datetime as dt\n",
        "\n",
        "# Complete the time_delta function below.\n",
        "def time_delta(t1, t2):\n",
        "    a = dt.datetime.strptime(t1, \"%a %d %b %Y %H:%M:%S %z\")\n",
        "    b = dt.datetime.strptime(t2, \"%a %d %b %Y %H:%M:%S %z\")\n",
        "    c = b - a \n",
        "    return str(round(abs(c.total_seconds())))\n",
        "\n",
        "\n",
        "if __name__ == '__main__':\n",
        "    fptr = open(os.environ['OUTPUT_PATH'], 'w')\n",
        "\n",
        "    t = int(input())\n",
        "\n",
        "    for t_itr in range(t):\n",
        "        t1 = input()\n",
        "\n",
        "        t2 = input()\n",
        "\n",
        "        delta = time_delta(t1, t2)\n",
        "\n",
        "        fptr.write(delta + '\\n')\n",
        "\n",
        "    fptr.close()"
      ],
      "execution_count": null,
      "outputs": [
        {
          "output_type": "execute_result",
          "data": {
            "text/plain": [
              "25200"
            ]
          },
          "metadata": {
            "tags": []
          },
          "execution_count": 23
        }
      ]
    },
    {
      "cell_type": "markdown",
      "metadata": {
        "id": "Cpo8l2GRPsqD"
      },
      "source": [
        "## Permuting Two Arrays\n",
        "Consider two -element arrays of integers,  and . You want to permute them into some  and  such that the relation  holds for all  where . For example, if , , and , a valid  satisfying our relation would be  and ,  and .\n",
        "\n",
        "You are given  queries consisting of , , and . For each query, print YES on a new line if some permutation ,  satisfying the relation above exists. Otherwise, print NO.\n",
        "\n",
        "Function Description\n",
        "\n",
        "Complete the twoArrays function in the editor below. It should return a string, either YES or NO.\n",
        "\n",
        "twoArrays has the following parameter(s):\n",
        "\n",
        "k: an integer\n",
        "A: an array of integers\n",
        "B: an array of integers"
      ]
    },
    {
      "cell_type": "code",
      "metadata": {
        "id": "UIwO_nh_PyDo"
      },
      "source": [
        "def twoArrays(k, A, B):\n",
        "    # need to find a permutation where all A[i] + B[i] >= k\n",
        "    # could brute force and check all permutations\n",
        "    # could sort lowest and highest and then checking\n",
        "        # maybe some edge cases that don't work\n",
        "    a_sort = sorted(A, reverse=False)\n",
        "    b_sort = sorted(B, reverse=True)\n",
        "    for idx in range(len(A)):\n",
        "        if (a_sort[idx] + b_sort[idx]) < k:\n",
        "            return \"NO\"\n",
        "\n",
        "    return \"YES\""
      ],
      "execution_count": null,
      "outputs": []
    },
    {
      "cell_type": "markdown",
      "metadata": {
        "id": "ov9-a9D-rRpH"
      },
      "source": [
        "# Interview Prep Kit"
      ]
    },
    {
      "cell_type": "markdown",
      "metadata": {
        "id": "gy1oD4GHsvJ3"
      },
      "source": [
        "## 2d array\n",
        "Function Description\n",
        "\n",
        "Complete the function hourglassSum in the editor below.\n",
        "\n",
        "hourglassSum has the following parameter(s):\n",
        "\n",
        "int arr[6][6]: an array of integers"
      ]
    },
    {
      "cell_type": "code",
      "metadata": {
        "id": "8TjEDWMEswgn"
      },
      "source": [
        "def hourglassSum(arr):\n",
        "    biggest = -math.inf\n",
        "    for idx, array in enumerate(arr[0:4]):\n",
        "        for idx2, num in enumerate(array[0:4]):\n",
        "          \n",
        "            top_hour = array[idx2:idx2+3]\n",
        "            mid_hour = arr[idx+1][idx2+1]\n",
        "            bottom_hour = arr[idx+2][idx2:idx2+3]\n",
        "            hour_sum = sum(top_hour) + mid_hour + sum(bottom_hour)\n",
        "\n",
        "            if hour_sum > biggest:\n",
        "                biggest = hour_sum\n",
        "        \n",
        "    return biggest"
      ],
      "execution_count": null,
      "outputs": []
    },
    {
      "cell_type": "markdown",
      "metadata": {
        "id": "rhI6ph-8peFD"
      },
      "source": [
        "## Left Rotation\n",
        "A left rotation operation on an array shifts each of the array's elements  unit to the left. For example, if  left rotations are performed on array , then the array would become .\n",
        "\n",
        "Given an array  of  integers and a number, , perform  left rotations on the array. Return the updated array to be printed as a single line of space-separated integers.\n",
        "\n",
        "Function Description\n",
        "\n",
        "Complete the function rotLeft in the editor below. It should return the resulting array of integers.\n",
        "\n",
        "rotLeft has the following parameter(s):\n",
        "\n",
        "An array of integers .\n",
        "An integer , the number of rotations."
      ]
    },
    {
      "cell_type": "code",
      "metadata": {
        "id": "vQfcBhhWpiHp"
      },
      "source": [
        "from collections import deque\n",
        "# Complete the rotLeft function below.\n",
        "def rotLeft(a, d):\n",
        "    dq = deque([])\n",
        "    for num in a:\n",
        "        dq.append(num)\n",
        "    for _ in range(d):\n",
        "        dq.append(dq.popleft())\n",
        "    return dq"
      ],
      "execution_count": null,
      "outputs": []
    },
    {
      "cell_type": "markdown",
      "metadata": {
        "id": "6rOMnqrD1er2"
      },
      "source": [
        "## Sorting Bubble\n",
        "Consider the following version of Bubble Sort:\n",
        "\n",
        "for (int i = 0; i < n; i++) {\n",
        "    \n",
        "    for (int j = 0; j < n - 1; j++) {\n",
        "        // Swap adjacent elements if they are in decreasing order\n",
        "        if (a[j] > a[j + 1]) {\n",
        "            swap(a[j], a[j + 1]);\n",
        "        }\n",
        "    }\n",
        "    \n",
        "}\n",
        "Given an array of integers, sort the array in ascending order using the Bubble Sort algorithm above. Once sorted, print the following three lines:\n",
        "\n",
        "Array is sorted in numSwaps swaps., where  is the number of swaps that took place.\n",
        "First Element: firstElement, where  is the first element in the sorted array.\n",
        "Last Element: lastElement, where  is the last element in the sorted array."
      ]
    },
    {
      "cell_type": "code",
      "metadata": {
        "id": "wSHIwFRM1mdP"
      },
      "source": [
        "def countSwaps(a):\n",
        "    numswaps = 0\n",
        "    is_sorted = False\n",
        "\n",
        "    while not is_sorted:\n",
        "        is_sorted = True\n",
        "        for idx, num in enumerate(a[:-1]):\n",
        "            if a[idx] > a[idx+1]:\n",
        "                a[idx], a[idx+1] = a[idx+1], a[idx]\n",
        "                is_sorted = False\n",
        "                numswaps += 1\n",
        "\n",
        "    print(f'Array is sorted in {numswaps} swaps.')\n",
        "    print(f'First Element: {a[0]}')\n",
        "    print(f'Last Element: {a[-1]}')"
      ],
      "execution_count": null,
      "outputs": []
    },
    {
      "cell_type": "markdown",
      "metadata": {
        "id": "ASAjybAv4XQX"
      },
      "source": [
        "## Mark and toys\n",
        "Mark and Jane are very happy after having their first child. Their son loves toys, so Mark wants to buy some. There are a number of different toys lying in front of him, tagged with their prices. Mark has only a certain amount to spend, and he wants to maximize the number of toys he buys with this money.\n",
        "\n",
        "Given a list of prices and an amount to spend, what is the maximum number of toys Mark can buy? For example, if  and Mark has  to spend, he can buy items  for , or  for  units of currency. He would choose the first group of  items."
      ]
    },
    {
      "cell_type": "code",
      "metadata": {
        "id": "3NJ7zpI74ZRl"
      },
      "source": [
        "def maximumToys(prices, k):\n",
        "\n",
        "    running_sum = 0\n",
        "    for idx, price in enumerate(sorted(prices)):\n",
        "        if (running_sum + price) > k:\n",
        "            return idx\n",
        "        running_sum += price\n",
        "\n",
        "        #     if running_sum < k:\n",
        "    #         running_sum += price\n",
        "    #         counter += 1\n",
        "    # return counter - 1"
      ],
      "execution_count": null,
      "outputs": []
    },
    {
      "cell_type": "markdown",
      "metadata": {
        "id": "0_YiMmM-NwI_"
      },
      "source": [
        "## Sherlock and Anagrams\n",
        "Two strings are anagrams of each other if the letters of one string can be rearranged to form the other string. Given a string, find the number of pairs of substrings of the string that are anagrams of each other.\n",
        "\n",
        "For example , the list of all anagrammatic pairs is  at positions  respectively.\n",
        "\n",
        "Function Description\n",
        "\n",
        "Complete the function sherlockAndAnagrams in the editor below. It must return an integer that represents the number of anagrammatic pairs of substrings in .\n",
        "\n",
        "sherlockAndAnagrams has the following parameter(s):\n",
        "\n",
        "s: a string ."
      ]
    },
    {
      "cell_type": "code",
      "metadata": {
        "id": "gHb8DzhXN0G2"
      },
      "source": [
        "def sherlockAndAnagrams(s):\n",
        "    dictionary = {}\n",
        "    count = 0\n",
        "    # Loop through array\n",
        "    for i in range(1, len(s)):\n",
        "        # Create all subarrays\n",
        "        for j in range(len(s)-i+1):\n",
        "            # sort them, cast as str\n",
        "            sorted_sub = str(sorted(s[j:j+i]))\n",
        "            # check if sorted str in dict\n",
        "            if sorted_sub not in dictionary:\n",
        "                dictionary[sorted_sub] = 1\n",
        "            else:\n",
        "                # for every duplicate anagram we will add all other occurences before it\n",
        "                count += dictionary[sorted_sub]\n",
        "                dictionary[sorted_sub] += 1\n",
        "        \n",
        "    return count"
      ],
      "execution_count": null,
      "outputs": []
    },
    {
      "cell_type": "markdown",
      "metadata": {
        "id": "rCWPztdh9un4"
      },
      "source": [
        "## Hash Tables: Ransom Note\n",
        "Harold is a kidnapper who wrote a ransom note, but now he is worried it will be traced back to him through his handwriting. He found a magazine and wants to know if he can cut out whole words from it and use them to create an untraceable replica of his ransom note. The words in his note are case-sensitive and he must use only whole words available in the magazine. He cannot use substrings or concatenation to create the words he needs.\n",
        "\n",
        "Given the words in the magazine and the words in the ransom note, print Yes if he can replicate his ransom note exactly using whole words from the magazine; otherwise, print No.\n",
        "\n",
        "For example, the note is \"Attack at dawn\". The magazine contains only \"attack at dawn\". The magazine has all the right words, but there's a case mismatch. The answer is .\n",
        "\n",
        "Function Description\n",
        "\n",
        "Complete the checkMagazine function in the editor below. It must print  if the note can be formed using the magazine, or .\n",
        "\n",
        "checkMagazine has the following parameters:\n",
        "\n",
        "magazine: an array of strings, each a word in the magazine\n",
        "note: an array of strings, each a word in the ransom note"
      ]
    },
    {
      "cell_type": "code",
      "metadata": {
        "id": "sKjewmLd91dL"
      },
      "source": [
        "from collections import defaultdict\n",
        "# using defaultdict lets you specify default values for items not added into dictionary\n",
        "\n",
        "def checkMagazine(magazine, ransom):\n",
        "    # any value not in dictionary is instantiated with 0\n",
        "    dicty = defaultdict(int)\n",
        "    for word in magazine:\n",
        "        dicty[word] += 1\n",
        "    for word in ransom:\n",
        "        # won't error out for trying to access non added words \n",
        "        if dicty[word]==0 : return print(\"No\") \n",
        "        dicty[word] += -1\n",
        "    return print(\"Yes\")\n",
        "  "
      ],
      "execution_count": null,
      "outputs": []
    },
    {
      "cell_type": "markdown",
      "metadata": {
        "id": "_hVM9ZPcuo0U"
      },
      "source": [
        "## Making Anagrams\n",
        "Alice is taking a cryptography class and finding anagrams to be very useful. We consider two strings to be anagrams of each other if the first string's letters can be rearranged to form the second string. In other words, both strings must contain the same exact letters in the same exact frequency For example, bacdc and dcbac are anagrams, but bacdc and dcbad are not.\n",
        "\n",
        "Alice decides on an encryption scheme involving two large strings where encryption is dependent on the minimum number of character deletions required to make the two strings anagrams. Can you help her find this number?\n",
        "\n",
        "Given two strings,  and , that may or may not be of the same length, determine the minimum number of character deletions required to make  and  anagrams. Any characters can be deleted from either of the strings.\n",
        "\n",
        "For example, if  and , we can delete  from string  and  from string  so that both remaining strings are  and  which are anagrams.\n",
        "\n",
        "Function Description\n",
        "\n",
        "Complete the makeAnagram function in the editor below. It must return an integer representing the minimum total characters that must be deleted to make the strings anagrams.\n"
      ]
    },
    {
      "cell_type": "code",
      "metadata": {
        "id": "doQGGqHIurVr"
      },
      "source": [
        "def makeAnagram(a, b):\n",
        "    # find the number of characters in common\n",
        "    count_a = Counter(a)\n",
        "    count_b = Counter(b)\n",
        "    \n",
        "    # (len(a) - that number) + (len(b) - that number)\n",
        "    count_a.subtract(count_b)\n",
        "\n",
        "    return sum(abs(i) for i in count_a.values())"
      ],
      "execution_count": null,
      "outputs": []
    },
    {
      "cell_type": "markdown",
      "metadata": {
        "id": "qJnYFzUryebM"
      },
      "source": [
        "## Alternating Characters\n",
        "You are given a string containing characters  and  only. Your task is to change it into a string such that there are no matching adjacent characters. To do this, you are allowed to delete zero or more characters in the string.\n",
        "\n",
        "Your task is to find the minimum number of required deletions.\n",
        "\n",
        "For example, given the string , remove an  at positions  and  to make  in  deletions.\n",
        "\n",
        "Function Description\n",
        "\n",
        "Complete the alternatingCharacters function in the editor below. It must return an integer representing the minimum number of deletions to make the alternating string."
      ]
    },
    {
      "cell_type": "code",
      "metadata": {
        "id": "MC3WRWIe27LY"
      },
      "source": [
        "def alternatingCharacters(s):\n",
        "    count = 0\n",
        "    for num in range (len(s)-1):\n",
        "        if s[num] == s[num+1]:\n",
        "            count +=1\n",
        "    return count"
      ],
      "execution_count": null,
      "outputs": []
    },
    {
      "cell_type": "markdown",
      "metadata": {
        "id": "pbY-K-o7IsXd"
      },
      "source": [
        "## Min abs Diff\n",
        "Function Description\n",
        "\n",
        "Complete the minimumAbsoluteDifference function in the editor below. It should return an integer that represents the minimum absolute difference between any pair of elements."
      ]
    },
    {
      "cell_type": "code",
      "metadata": {
        "id": "LH5MvptEIxP4"
      },
      "source": [
        "def minimumAbsoluteDifference(arr):\n",
        "    sorted_arr = sorted(arr)\n",
        "    smallest_diff = math.inf\n",
        "    for idx in range(len(sorted_arr)-1):\n",
        "        abs_diff = abs(sorted_arr[idx+1] - sorted_arr[idx])\n",
        "        if abs_diff < smallest_diff:\n",
        "            smallest_diff = abs_diff\n",
        "\n",
        "    return smallest_diff"
      ],
      "execution_count": null,
      "outputs": []
    },
    {
      "cell_type": "markdown",
      "metadata": {
        "id": "hO-qHe99w14N"
      },
      "source": [
        " ## Frequency queries\n",
        " You are given  queries. Each query is of the form two integers described below:\n",
        "-  : Insert x in your data structure.\n",
        "-  : Delete one occurence of y from your data structure, if present.\n",
        "-  : Check if any integer is present whose frequency is exactly . If yes, print 1 else 0.\n",
        "\n",
        "The queries are given in the form of a 2-D array  of size  where  contains the operation, and  contains the data element. For example, you are given array . The results of each operation are:\n",
        "\n",
        "```\n",
        "Operation   Array   Output\n",
        "(1,1)       [1]\n",
        "(2,2)       [1]\n",
        "(3,2)                   0\n",
        "(1,1)       [1,1]\n",
        "(1,1)       [1,1,1]\n",
        "(2,1)       [1,1]\n",
        "(3,2)                   1\n",
        "Return an array with the output: .\n",
        "```"
      ]
    },
    {
      "cell_type": "code",
      "metadata": {
        "id": "zv1DKEb7w2BK"
      },
      "source": [
        "def freqQuery(queries):\n",
        "    dictionary = defaultdict(int)\n",
        "    # handle operations individually\n",
        "    for query in queries:\n",
        "        if query[0] == 1:\n",
        "            dictionary[query[1]] += 1\n",
        "        if query[0] == 2:      \n",
        "            dictionary[query[1]] += -1\n",
        "            # could be the case where you delete first and then check\n",
        "            if dictionary[query[1]] == -1:\n",
        "                del dictionary[query[1]]\n",
        "        if query[0] == 3:\n",
        "            if query[1] in set(dictionary.values()):\n",
        "                print(1)\n",
        "            else:\n",
        "                print(0)\n"
      ],
      "execution_count": null,
      "outputs": []
    },
    {
      "cell_type": "markdown",
      "metadata": {
        "id": "8FJlqqQfrXYQ"
      },
      "source": [
        "## New Year Chaos\n",
        "It's New Year's Day and everyone's in line for the Wonderland rollercoaster ride! There are a number of people queued up, and each person wears a sticker indicating their initial position in the queue. Initial positions increment by  from  at the front of the line to  at the back.\n",
        "\n",
        "Any person in the queue can bribe the person directly in front of them to swap positions. If two people swap positions, they still wear the same sticker denoting their original places in line. One person can bribe at most two others. For example, if  and  bribes , the queue will look like this: .\n",
        "\n",
        "Fascinated by this chaotic queue, you decide you must know the minimum number of bribes that took place to get the queue into its current state!"
      ]
    },
    {
      "cell_type": "code",
      "metadata": {
        "id": "zE5zAaqXrXpf",
        "colab": {
          "base_uri": "https://localhost:8080/"
        },
        "outputId": "4029ab2e-da9d-4dc9-c172-83afc315a6fe"
      },
      "source": [
        "def minimumBribes(q): # objective is to count how many each person RECEIVED bribes\n",
        "    len_q = len(q)\n",
        "    counter = -1 # Imperfect code, counter is off\n",
        "    for index, init_pos in enumerate(q):\n",
        "        if (init_pos - index - 1) > 2: # if the person jumped more than 2 places\n",
        "            print(\"Too chaotic\")\n",
        "            return\n",
        "        for j in range(init_pos-2, index): # Check from one in front of initial postion to one in front of current\n",
        "            if q[j] > init_pos: # if there's a number bigger, then they bribed\n",
        "                counter += 1\n",
        "    return print(counter)\n"
      ],
      "execution_count": null,
      "outputs": [
        {
          "output_type": "execute_result",
          "data": {
            "text/plain": [
              "6"
            ]
          },
          "metadata": {
            "tags": []
          },
          "execution_count": 3
        }
      ]
    },
    {
      "cell_type": "markdown",
      "metadata": {
        "id": "XVTFbqne8UL9"
      },
      "source": [
        "## Comparator\n",
        "Comparators are used to compare two objects. In this challenge, you'll create a comparator and use it to sort an array. The Player class is provided in the editor below. It has two fields:\n",
        "\n",
        ": a string.\n",
        ": an integer.\n",
        "Given an array of  Player objects, write a comparator that sorts them in order of decreasing score. If  or more players have the same score, sort those players alphabetically ascending by name. To do this, you must create a Checker class that implements the Comparator interface, then write an int compare(Player a, Player b) method implementing the Comparator.compare(T o1, T o2) method. In short, when sorting in ascending order, a comparator function returns  if ,  if , and  if .\n",
        "\n",
        "For example, given  Player objects with  values of , we want to sort the list as .\n",
        "\n",
        "Function Description\n",
        "\n",
        "Declare a Checker class that implements the comparator method as described. It should sort first descending by score, then ascending by name. The code stub reads the input, creates a list of Player objects, uses your method to sort the data, and prints it out properly."
      ]
    },
    {
      "cell_type": "code",
      "metadata": {
        "id": "Unq2bzwA8Yxv"
      },
      "source": [
        "class Player:\n",
        "    def __init__(self, name, score):\n",
        "        self.name = name\n",
        "        self.score = score\n",
        "    def __repr__(self):\n",
        "        return self.name\n",
        "    def comparator(a, b):\n",
        "        if a.score < b.score:\n",
        "            return 1\n",
        "        if a.score > b.score:\n",
        "            return -1\n",
        "        if a.name < b.name:\n",
        "            return -1\n",
        "        if a.name > b.name:\n",
        "            return 1\n",
        "        return 0"
      ],
      "execution_count": null,
      "outputs": []
    },
    {
      "cell_type": "markdown",
      "metadata": {
        "id": "klFLvpxyluTy"
      },
      "source": [
        "## Hash Tables Ice Cream Parlor\r\n",
        "Each time Sunny and Johnny take a trip to the Ice Cream Parlor, they pool their money to buy ice cream. On any given day, the parlor offers a line of flavors. Each flavor has a cost associated with it.\r\n",
        "\r\n",
        "Given the value of  and the  of each flavor for  trips to the Ice Cream Parlor, help Sunny and Johnny choose two distinct flavors such that they spend their entire pool of money during each visit. ID numbers are the 1- based index number associated with a . For each trip to the parlor, print the ID numbers for the two types of ice cream that Sunny and Johnny purchase as two space-separated integers on a new line. You must print the smaller ID first and the larger ID second.\r\n",
        "\r\n",
        "For example, there are  flavors having . Together they have  to spend. They would purchase flavor ID's  and  for a cost of . Use  based indexing for your response.\r\n",
        "\r\n",
        "Note:\r\n",
        "\r\n",
        "Two ice creams having unique IDs  and  may have the same cost (i.e., ).\r\n",
        "There will always be a unique solution.\r\n",
        "Function Description\r\n",
        "\r\n",
        "Complete the function whatFlavors in the editor below. It must determine the two flavors they will purchase and print them as two space-separated integers on a line.\r\n",
        "\r\n",
        "whatFlavors has the following parameter(s):\r\n",
        "\r\n",
        "cost: an array of integers representing price for a flavor\r\n",
        "money: an integer representing the amount of money they have to spend"
      ]
    },
    {
      "cell_type": "code",
      "metadata": {
        "id": "TE7C0LXjl1K2"
      },
      "source": [
        "def whatFlavors(cost, money):\r\n",
        "    remains = dict()\r\n",
        "    for index, c in enumerate(cost):\r\n",
        "        if c not in remains:\r\n",
        "            # Instantiate new entries. The target = current index + 1\r\n",
        "            remains[money - c] = index + 1\r\n",
        "        else:\r\n",
        "            # Once we get to the target, we print its value (which it other index)\r\n",
        "            # and then print the current index\r\n",
        "            # How does this keep it ordered?\r\n",
        "            print(remains[c], index + 1)\r\n",
        "# Because we are creating entries of viable targets, once we hit that target we \r\n",
        "# have a working solution. \r\n",
        "# The order is kept because it will reference the initial value first, then target"
      ],
      "execution_count": null,
      "outputs": []
    }
  ]
}