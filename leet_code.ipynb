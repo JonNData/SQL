{
  "nbformat": 4,
  "nbformat_minor": 0,
  "metadata": {
    "colab": {
      "name": "leet-code.ipynb",
      "provenance": [],
      "collapsed_sections": [],
      "authorship_tag": "ABX9TyMhwpi5thS6ouHGhGWn8USv",
      "include_colab_link": true
    },
    "kernelspec": {
      "name": "python3",
      "display_name": "Python 3"
    }
  },
  "cells": [
    {
      "cell_type": "markdown",
      "metadata": {
        "id": "view-in-github",
        "colab_type": "text"
      },
      "source": [
        "<a href=\"https://colab.research.google.com/github/JonNData/SQL/blob/master/leet_code.ipynb\" target=\"_parent\"><img src=\"https://colab.research.google.com/assets/colab-badge.svg\" alt=\"Open In Colab\"/></a>"
      ]
    },
    {
      "cell_type": "markdown",
      "metadata": {
        "id": "s6W3PNsZdQEN"
      },
      "source": [
        "# Python"
      ]
    },
    {
      "cell_type": "markdown",
      "metadata": {
        "id": "gIRc8w_fpBo6"
      },
      "source": [
        "## 58. Length of Last Word\n",
        "Given a string s consists of upper/lower-case alphabets and empty space characters ' ', return the length of last word (last word means the last appearing word if we loop from left to right) in the string.\n",
        "\n",
        "If the last word does not exist, return 0."
      ]
    },
    {
      "cell_type": "code",
      "metadata": {
        "id": "Wz3_9H2No61V"
      },
      "source": [
        "class Solution:\n",
        "    def lengthOfLastWord(self, s: str) -> int:\n",
        "        x =  s.split(\" \")[::-1]\n",
        "        for split in x:\n",
        "            if split.isalpha():\n",
        "                return len(split)\n",
        "        return 0"
      ],
      "execution_count": null,
      "outputs": []
    },
    {
      "cell_type": "markdown",
      "metadata": {
        "id": "bRmQOS4dwl3x"
      },
      "source": [
        "## 1395. Count Number of Teams\n",
        "There are n soldiers standing in a line. Each soldier is assigned a unique rating value.\n",
        "\n",
        "You have to form a team of 3 soldiers amongst them under the following rules:\n",
        "\n",
        "Choose 3 soldiers with index (i, j, k) with rating (rating[i], rating[j], rating[k]).\n",
        "A team is valid if:  (rating[i] < rating[j] < rating[k]) or (rating[i] > rating[j] > rating[k]) where (0 <= i < j < k < n).\n",
        "Return the number of teams you can form given the conditions. (soldiers can be part of multiple teams)."
      ]
    },
    {
      "cell_type": "code",
      "metadata": {
        "id": "JOzcSwugwmBu"
      },
      "source": [
        "class Solution:\n",
        "    def numTeams(self, rating: List[int]) -> int:\n",
        "        def get_all_poss_teams():\n",
        "            possible_teams = list()\n",
        "            for i, soldier_1 in enumerate(rating[:-2]):\n",
        "                for j, soldier_2 in enumerate(rating[i+1:]):\n",
        "                    for soldier_3 in rating[i+j+2:]:\n",
        "                        possible_teams.append([soldier_1,soldier_2,soldier_3])\n",
        "            return possible_teams\n",
        "        def validate_poss_teams(possible_teams):\n",
        "            valid_teams = 0\n",
        "            for team in possible_teams:\n",
        "                team_order, team_reverse = team.copy(), team.copy()\n",
        "                team_order.sort()\n",
        "                team_reverse.sort(reverse=True)\n",
        "                if team_order == team or team_reverse == team:\n",
        "                    valid_teams += 1\n",
        "            return valid_teams\n",
        "        possible_teams = get_all_poss_teams()\n",
        "        return validate_poss_teams(possible_teams)"
      ],
      "execution_count": null,
      "outputs": []
    },
    {
      "cell_type": "markdown",
      "metadata": {
        "id": "JBIsWAr16hJg"
      },
      "source": [
        "## 1282. Group the People Given the Group Size They Belong To\n",
        "\n",
        "There are n people that are split into some unknown number of groups. Each person is labeled with a unique ID from 0 to n - 1.\n",
        "\n",
        "You are given an integer array groupSizes, where groupSizes[i] is the size of the group that person i is in. For example, if groupSizes[1] = 3, then person 1 must be in a group of size 3.\n",
        "\n",
        "Return a list of groups such that each person i is in a group of size groupSizes[i].\n",
        "\n",
        "Each person should appear in exactly one group, and every person must be in a group. If there are multiple answers, return any of them. It is guaranteed that there will be at least one valid solution for the given input."
      ]
    },
    {
      "cell_type": "code",
      "metadata": {
        "id": "7EHYPbRb6iFn"
      },
      "source": [
        "class Solution:\n",
        "    def groupThePeople(self, groupSizes: List[int]) -> List[List[int]]:\n",
        "        # Enumerate group\n",
        "        dictionary = {}\n",
        "        end_groups = []\n",
        "        for idx, value in enumerate(groupSizes):\n",
        "            if value in dictionary:\n",
        "                dictionary[value].append(idx)\n",
        "            else:\n",
        "                dictionary[value] = [idx]\n",
        "            if len(dictionary[value]) == value:\n",
        "                end_groups.append(dictionary[value])\n",
        "                dictionary[value] = []\n",
        "                \n",
        "        return end_groups"
      ],
      "execution_count": null,
      "outputs": []
    },
    {
      "cell_type": "markdown",
      "metadata": {
        "id": "1d6HgJnycBsD"
      },
      "source": [
        "## 1476. Subrectangle Queries\n",
        "Implement the class SubrectangleQueries which receives a rows x cols rectangle as a matrix of integers in the constructor and supports two methods:\n",
        "\n",
        "1. updateSubrectangle(int row1, int col1, int row2, int col2, int newValue)\n",
        "\n",
        "Updates all values with newValue in the subrectangle whose upper left coordinate is (row1,col1) and bottom right coordinate is (row2,col2).\n",
        "2. getValue(int row, int col)\n",
        "\n",
        "Returns the current value of the coordinate (row,col) from the rectangle."
      ]
    },
    {
      "cell_type": "code",
      "metadata": {
        "id": "v98CFdUDcIMZ"
      },
      "source": [
        "class SubrectangleQueries:\n",
        "\n",
        "    def __init__(self, rectangle: List[List[int]]):\n",
        "        self.rectangle = rectangle\n",
        "\n",
        "    def updateSubrectangle(self, row1: int, col1: int, row2: int, col2: int, newValue: int) -> None:\n",
        "        # index into rectangle and change all values in subrectangle\n",
        "        # gonna have to loop through it\n",
        "        for row in range(len(self.rectangle)):\n",
        "            if row >= row1 and row <= row2:\n",
        "                for col in range(len(self.rectangle[0])):\n",
        "                    if col >= col1 and col <= col2:\n",
        "                        self.rectangle[row][col] = newValue\n",
        "\n",
        "    def getValue(self, row: int, col: int) -> int:\n",
        "        return self.rectangle[row][col]\n",
        "\n",
        "\n",
        "# Your SubrectangleQueries object will be instantiated and called as such:\n",
        "# obj = SubrectangleQueries(rectangle)\n",
        "# obj.updateSubrectangle(row1,col1,row2,col2,newValue)\n",
        "# param_2 = obj.getValue(row,col)\n",
        "\n",
        "# Can be done much better in numpy\n",
        "\n",
        "import numpy as np\n",
        "\n",
        "class SubrectangleQueries:\n",
        "\n",
        "    def __init__(self, rectangle: List[List[int]]):\n",
        "        self.rectangle=np.array(rectangle, dtype='int64')\n",
        "\n",
        "    def updateSubrectangle(self, row1: int, col1: int, row2: int, col2: int, newValue: int) -> None:\n",
        "        self.rectangle[row1:row2+1, col1:col2+1] = newValue\n",
        "\n",
        "    def getValue(self, row: int, col: int) -> int:\n",
        "        return self.rectangle[row, col]"
      ],
      "execution_count": null,
      "outputs": []
    },
    {
      "cell_type": "markdown",
      "metadata": {
        "id": "fkxWFVHV9xG_"
      },
      "source": [
        "## 463. Island Perimeter"
      ]
    },
    {
      "cell_type": "code",
      "metadata": {
        "id": "J31csVDB90Pd"
      },
      "source": [
        "class Solution:\n",
        "    def is_adjacent(self, grid, row, col):\n",
        "        \"\"\"number of 1s adjacent\"\"\"\n",
        "        counter = 0\n",
        "        \n",
        "        if col > 0:\n",
        "            if grid[row][col-1] == 1:\n",
        "                counter += 1\n",
        "        if col < len(grid[0]) - 1:\n",
        "            if grid[row][col+1] == 1:\n",
        "                counter += 1\n",
        "        if row > 0:\n",
        "            if grid[row-1][col] == 1:\n",
        "                counter += 1\n",
        "        if row < len(grid)-1:\n",
        "            if grid[row+1][col] == 1:\n",
        "                counter += 1\n",
        "        return counter\n",
        "    \n",
        "    def islandPerimeter(self, grid: List[List[int]]) -> int:\n",
        "        # need to compare all cardinal directions\n",
        "        # Focus on the 1s, add to counter based on how many adjacent\n",
        "        perimeter = 0\n",
        "        for row_idx, row in enumerate(grid):\n",
        "            for index, value in enumerate(row):\n",
        "                if value == 1:\n",
        "                    adjust = 4 - self.is_adjacent(grid, row_idx, index) # return how many 1s are adjacent\n",
        "                    perimeter += adjust\n",
        "        return perimeter\n",
        "\n",
        "# Big O(N)"
      ],
      "execution_count": null,
      "outputs": []
    },
    {
      "cell_type": "markdown",
      "metadata": {
        "id": "zg3M9JeTtsa-"
      },
      "source": [
        "##49. Group Anagrams\n",
        "Given an array of strings strs, group the anagrams together. You can return the answer in any order.\n",
        "\n",
        "An Anagram is a word or phrase formed by rearranging the letters of a different word or phrase, typically using all the original letters exactly once.\n",
        "\n",
        " \n",
        "\n",
        "Example 1:\n",
        "\n",
        "Input: strs = [\"eat\",\"tea\",\"tan\",\"ate\",\"nat\",\"bat\"]\n",
        "Output: [[\"bat\"],[\"nat\",\"tan\"],[\"ate\",\"eat\",\"tea\"]]"
      ]
    },
    {
      "cell_type": "code",
      "metadata": {
        "id": "LCuHjempty31"
      },
      "source": [
        "from collections import defaultdict\n",
        "\n",
        "class Solution:\n",
        "    def groupAnagrams(self, strs: List[str]) -> List[List[str]]:\n",
        "        anagram_map = defaultdict(list)\n",
        "        for word in strs:\n",
        "            sorted_word = \"\".join(sorted(word))\n",
        "            anagram_map[sorted_word].append(word)\n",
        "        return list(anagram_map.values())\n",
        "\n",
        "# for every word in array, key is sorted anagram, value is original words"
      ],
      "execution_count": null,
      "outputs": []
    },
    {
      "cell_type": "markdown",
      "metadata": {
        "id": "5AycNLZGfUgx"
      },
      "source": [
        "# Database"
      ]
    },
    {
      "cell_type": "markdown",
      "metadata": {
        "id": "e93mCyrPfXA4"
      },
      "source": [
        "620. Not Boring Movies\n",
        "\n",
        "X city opened a new cinema, many people would like to go to this cinema. The cinema also gives out a poster indicating the movies’ ratings and descriptions.\n",
        "Please write a SQL query to output movies with an odd numbered ID and a description that is not 'boring'. Order the result by rating.\n",
        "\n",
        "\n",
        "```\n",
        "SELECT * \n",
        "FROM cinema\n",
        "WHERE MOD(id, 2)=1\n",
        "AND description NOT LIKE '%boring%'\n",
        "ORDER BY rating DESC;\n",
        "```\n",
        "\n"
      ]
    },
    {
      "cell_type": "markdown",
      "metadata": {
        "id": "EjosrNQ4dS6C"
      },
      "source": [
        "595. Big Countries\r\n",
        "\r\n",
        "SQL Schema\r\n",
        "There is a table World\r\n",
        "\r\n",
        "+-----------------+------------+------------+--------------+---------------+\r\n",
        "| name            | continent  | area       | population   | gdp           |\r\n",
        "+-----------------+------------+------------+--------------+---------------+\r\n",
        "| Afghanistan     | Asia       | 652230     | 25500100     | 20343000      |\r\n",
        "| Albania         | Europe     | 28748      | 2831741      | 12960000      |\r\n",
        "| Algeria         | Africa     | 2381741    | 37100000     | 188681000     |\r\n",
        "| Andorra         | Europe     | 468        | 78115        | 3712000       |\r\n",
        "| Angola          | Africa     | 1246700    | 20609294     | 100990000     |\r\n",
        "+-----------------+------------+------------+--------------+---------------+\r\n",
        "A country is big if it has an area of bigger than 3 million square km or a population of more than 25 million.\r\n",
        "\r\n",
        "Write a SQL solution to output big countries' name, population and area.\r\n",
        "\r\n",
        "For example, according to the above table, we should output:\r\n",
        "\r\n",
        "\r\n",
        "\r\n",
        "```\r\n",
        "SELECT name, population, area\r\n",
        "FROM World\r\n",
        "where area > 3000000 OR population > 25000000\r\n",
        "```"
      ]
    },
    {
      "cell_type": "markdown",
      "metadata": {
        "id": "ZD8rkwTMddgb"
      },
      "source": [
        "596. Classes More Than 5 Students\r\n",
        "\r\n",
        "There is a table courses with columns: student and class\r\n",
        "\r\n",
        "Please list out all classes which have more than or equal to 5 students.\r\n",
        "\r\n",
        "For example, the table:\r\n",
        "\r\n",
        "+---------+------------+\r\n",
        "| student | class      |\r\n",
        "+---------+------------+\r\n",
        "| A       | Math       |\r\n",
        "| B       | English    |\r\n",
        "| C       | Math       |\r\n",
        "| D       | Biology    |\r\n",
        "| E       | Math       |\r\n",
        "| F       | Computer   |\r\n",
        "| G       | Math       |\r\n",
        "| H       | Math       |\r\n",
        "| I       | Math       |\r\n",
        "+---------+------------+\r\n",
        "Should output:\r\n",
        "\r\n",
        "+---------+\r\n",
        "| class   |\r\n",
        "+---------+\r\n",
        "| Math    |\r\n",
        "+---------+\r\n",
        "\r\n",
        "\r\n",
        "\r\n",
        "```\r\n",
        "# Write your MySQL query statement below\r\n",
        "Select class\r\n",
        "from courses\r\n",
        "group by class\r\n",
        "having count(DISTINCT(student)) >= 5\r\n",
        "```\r\n",
        "The difference between the having and where clause in SQL is that the where clause cannot be used with aggregates, but the having clause can.\r\n",
        "The where clause works on row’s data, not on aggregated data. \r\n"
      ]
    },
    {
      "cell_type": "markdown",
      "metadata": {
        "id": "rlmUqfNUvVSi"
      },
      "source": [
        "627. Swap Salary\r\n",
        "Given a table salary, such as the one below, that has m=male and f=female values. Swap all f and m values (i.e., change all f values to m and vice versa) with a single update statement and no intermediate temp table.\r\n",
        "\r\n",
        "Note that you must write a single update statement, DO NOT write any select statement for this problem.\r\n",
        "\r\n",
        "\r\n",
        "```\r\n",
        "UPDATE salary\r\n",
        "SET\r\n",
        "    sex = CASE sex\r\n",
        "    WHEN 'f'\r\n",
        "    THEN 'm'\r\n",
        "    ELSE 'f'\r\n",
        "END\r\n",
        "```\r\n",
        "\r\n"
      ]
    },
    {
      "cell_type": "markdown",
      "metadata": {
        "id": "WzgRIm_oFB9R"
      },
      "source": [
        "197. Rising Temperature \r\n",
        "\r\n",
        "```\r\n",
        "+---------------+---------+\r\n",
        "| Column Name   | Type    |\r\n",
        "+---------------+---------+\r\n",
        "| id            | int     |\r\n",
        "| recordDate    | date    |\r\n",
        "| temperature   | int     |\r\n",
        "+---------------+---------+\r\n",
        "```\r\n",
        "\r\n",
        "\r\n",
        "id is the primary key for this table.\r\n",
        "This table contains information about the temperature in a certain day.\r\n",
        " \r\n",
        "\r\n",
        "Write an SQL query to find all dates' id with higher temperature compared to its previous dates (yesterday).\r\n",
        "\r\n",
        "Return the result table in any order.\r\n",
        "\r\n",
        "\r\n",
        "\r\n",
        "```\r\n",
        "SELECT w1.id\r\n",
        "FROM Weather w1, Weather w2\r\n",
        "WHERE DATEDIFF(w1.recordDate, w2.recordDate) = 1 \r\n",
        "AND w1.Temperature > w2.Temperature;\r\n",
        "```\r\n",
        "DATEDIFF subtracts the second date from the first\r\n"
      ]
    }
  ]
}